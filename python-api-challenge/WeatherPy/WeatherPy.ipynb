{
 "cells": [
  {
   "cell_type": "markdown",
   "metadata": {},
   "source": [
    "# Part I - WeatherPy\n",
    "#### By raulfloresp\n",
    "----\n",
    "\n",
    "#### Purpose of analysis:\n",
    "Creating a Python script to visualize the weather of 500+ cities across the world of varying distance from the equator. To accomplish this, I utilized a simple Python library, the OpenWeatherMap API, and a set of weather definitions to create a representative model of weather across world cities.\n",
    "\n",
    "* Temperature (F) vs. Latitude\n",
    "* Humidity (%) vs. Latitude\n",
    "* Cloudiness (%) vs. Latitude\n",
    "* Wind Speed (mph) vs. Latitude"
   ]
  },
  {
   "cell_type": "code",
   "execution_count": 7,
   "metadata": {
    "scrolled": true
   },
   "outputs": [],
   "source": [
    "# Dependencies and Setup\n",
    "import matplotlib.pyplot as plt\n",
    "import pandas as pd\n",
    "import numpy as np\n",
    "import requests\n",
    "import time\n",
    "import json\n",
    "import csv as csv\n",
    "from scipy.stats import linregress\n",
    "\n",
    "# Import API key\n",
    "from config1 import api_key"
   ]
  },
  {
   "cell_type": "code",
   "execution_count": 9,
   "metadata": {},
   "outputs": [],
   "source": [
    "# Incorporated citipy to determine city based on latitude and longitude\n",
    "from citipy import citipy"
   ]
  },
  {
   "cell_type": "code",
   "execution_count": 10,
   "metadata": {},
   "outputs": [],
   "source": [
    "# Output File (CSV)\n",
    "output_data_file = \"Output/cities.csv\"\n",
    "\n",
    "# Range of latitudes and longitudes\n",
    "lat_range = (-90, 90)\n",
    "lng_range = (-180, 180)"
   ]
  },
  {
   "cell_type": "markdown",
   "metadata": {},
   "source": [
    "## Generate Cities List"
   ]
  },
  {
   "cell_type": "code",
   "execution_count": 11,
   "metadata": {},
   "outputs": [
    {
     "data": {
      "text/plain": [
       "601"
      ]
     },
     "execution_count": 11,
     "metadata": {},
     "output_type": "execute_result"
    }
   ],
   "source": [
    "# List for holding lat_lngs and cities\n",
    "lat_lngs = []\n",
    "cities = []\n",
    "\n",
    "# Create a set of random lat and lng combinations\n",
    "lats = np.random.uniform(lat_range[0], lat_range[1], size=1500)\n",
    "lngs = np.random.uniform(lng_range[0], lng_range[1], size=1500)\n",
    "lat_lngs = zip(lats, lngs)\n",
    "\n",
    "# Identify nearest city for each lat, lng combination\n",
    "for lat_lng in lat_lngs:\n",
    "    city = citipy.nearest_city(lat_lng[0], lat_lng[1]).city_name\n",
    "    \n",
    "    # If the city is unique, then add it to a our cities list\n",
    "    if city not in cities:\n",
    "        cities.append(city)\n",
    "\n",
    "# Print the city count to confirm sufficient count\n",
    "len(cities)"
   ]
  },
  {
   "cell_type": "code",
   "execution_count": 74,
   "metadata": {},
   "outputs": [
    {
     "data": {
      "text/plain": [
       "['caconda',\n",
       " 'punta arenas',\n",
       " 'ushuaia',\n",
       " 'ndele',\n",
       " 'synya',\n",
       " 'chaiya',\n",
       " 'hilo',\n",
       " 'chara',\n",
       " 'atuona',\n",
       " 'taolanaro',\n",
       " 'ambilobe',\n",
       " 'arraial do cabo',\n",
       " 'tautira',\n",
       " 'neiafu',\n",
       " 'touros',\n",
       " 'constitucion',\n",
       " 'yakima',\n",
       " 'mangaluru',\n",
       " 'alto araguaia',\n",
       " 'saint george',\n",
       " 'vaini',\n",
       " 'hermanus',\n",
       " 'vila',\n",
       " 'gizo',\n",
       " 'mataura',\n",
       " 'port elizabeth',\n",
       " 'mys shmidta',\n",
       " 'verkhnevilyuysk',\n",
       " 'general jose eduvigis diaz',\n",
       " 'kempele',\n",
       " 'sorland',\n",
       " 'belushya guba',\n",
       " 'aberdeen',\n",
       " 'hobart',\n",
       " 'suntar',\n",
       " 'sao joao da barra',\n",
       " 'cherskiy',\n",
       " 'luderitz',\n",
       " 'rikitea',\n",
       " 'shenzhen',\n",
       " 'chokurdakh',\n",
       " 'kapaa',\n",
       " 'port alfred',\n",
       " 'lexington',\n",
       " 'east london',\n",
       " 'maragogi',\n",
       " 'dingle',\n",
       " 'qaanaaq',\n",
       " 'leningradskiy',\n",
       " 'mount gambier',\n",
       " 'ponta delgada',\n",
       " 'taozhuang',\n",
       " 'moron',\n",
       " 'porto novo',\n",
       " 'airai',\n",
       " 'porbandar',\n",
       " 'mount hagen',\n",
       " 'sentyabrskiy',\n",
       " 'lebu',\n",
       " 'mahebourg',\n",
       " 'hasaki',\n",
       " 'barrow',\n",
       " 'albany',\n",
       " 'umm lajj',\n",
       " 'kruisfontein',\n",
       " 'rousinov',\n",
       " 'shirokiy',\n",
       " 'carndonagh',\n",
       " 'bethel',\n",
       " 'korla',\n",
       " 'butaritari',\n",
       " 'nishihara',\n",
       " 'piacabucu',\n",
       " 'ribeira grande',\n",
       " 'palabuhanratu',\n",
       " 'manavalakurichi',\n",
       " 'avarua',\n",
       " 'makakilo city',\n",
       " 'nikolskoye',\n",
       " 'mehamn',\n",
       " 'port shepstone',\n",
       " 'addi ugri',\n",
       " 'rostov',\n",
       " 'padang',\n",
       " 'busselton',\n",
       " 'new norfolk',\n",
       " 'preobrazheniye',\n",
       " 'sumbawa',\n",
       " 'phalodi',\n",
       " 'saint-philippe',\n",
       " 'kalat',\n",
       " 'aklavik',\n",
       " 'chegdomyn',\n",
       " 'oranjestad',\n",
       " 'cabo san lucas',\n",
       " 'bluff',\n",
       " 'barentsburg',\n",
       " 'yatou',\n",
       " 'puerto ayora',\n",
       " 'cape town',\n",
       " 'pevek',\n",
       " 'port lincoln',\n",
       " 'molteno',\n",
       " 'krasnoarmeysk',\n",
       " 'upernavik',\n",
       " 'oran',\n",
       " 'bredasdorp',\n",
       " 'tilichiki',\n",
       " 'saint-joseph',\n",
       " 'cap-aux-meules',\n",
       " 'paramonga',\n",
       " 'cap malheureux',\n",
       " 'nanortalik',\n",
       " 'nyurba',\n",
       " 'tsienyane',\n",
       " 'urengoy',\n",
       " 'hofn',\n",
       " 'carnarvon',\n",
       " 'sechura',\n",
       " 'attawapiskat',\n",
       " 'esperance',\n",
       " 'chuy',\n",
       " 'sola',\n",
       " 'wilmington',\n",
       " 'katsuura',\n",
       " 'la grande',\n",
       " 'kaitangata',\n",
       " 'camacha',\n",
       " 'dongargaon',\n",
       " 'kostomuksha',\n",
       " 'castro',\n",
       " 'meadow lake',\n",
       " 'malkara',\n",
       " 'kodiak',\n",
       " 'kahului',\n",
       " 'nemuro',\n",
       " 'jalalabad',\n",
       " 'bandarbeyla',\n",
       " 'mareeba',\n",
       " 'stonewall',\n",
       " 'posse',\n",
       " 'dicabisagan',\n",
       " 'mao',\n",
       " 'rjukan',\n",
       " 'harper',\n",
       " 'meulaboh',\n",
       " 'nanding',\n",
       " 'souillac',\n",
       " 'chicomuselo',\n",
       " 'khatanga',\n",
       " 'antalaha',\n",
       " 'pervoavgustovskiy',\n",
       " 'mayumba',\n",
       " 'kasongo-lunda',\n",
       " 'norman wells',\n",
       " 'beringovskiy',\n",
       " 'faanui',\n",
       " 'macaboboni',\n",
       " 'narsaq',\n",
       " 'anadyr',\n",
       " 'bartlesville',\n",
       " 'iqaluit',\n",
       " 'hualmay',\n",
       " 'yumen',\n",
       " 'mersin',\n",
       " 'bambous virieux',\n",
       " 'svarstad',\n",
       " 'rawson',\n",
       " 'tiksi',\n",
       " 'tuktoyaktuk',\n",
       " 'aleksandrov gay',\n",
       " 'armacao dos buzios',\n",
       " 'westport',\n",
       " 'dzhebariki-khaya',\n",
       " 'los banos',\n",
       " 'ilulissat',\n",
       " 'jamestown',\n",
       " 'ponca city',\n",
       " 'coahuayana',\n",
       " 'aurad',\n",
       " 'abu samrah',\n",
       " 'half moon bay',\n",
       " 'zadar',\n",
       " 'provideniya',\n",
       " 'shingu',\n",
       " 'hambantota',\n",
       " 'mar del plata',\n",
       " 'illoqqortoormiut',\n",
       " 'carlibaba',\n",
       " 'yellowknife',\n",
       " 'laguna',\n",
       " 'bengkulu',\n",
       " 'lincoln',\n",
       " 'rena',\n",
       " 'sur',\n",
       " 'hithadhoo',\n",
       " 'vaitupu',\n",
       " 'severo-kurilsk',\n",
       " 'betioky',\n",
       " 'georgetown',\n",
       " 'nguiu',\n",
       " 'ozuluama',\n",
       " 'nicoya',\n",
       " 'nyagan',\n",
       " 'la gomera',\n",
       " 'sept-iles',\n",
       " 'krasnyy chikoy',\n",
       " 'cayenne',\n",
       " 'porto walter',\n",
       " 'biltine',\n",
       " 'lavrentiya',\n",
       " 'lafia',\n",
       " 'bondo',\n",
       " 'palmer',\n",
       " 'los llanos de aridane',\n",
       " 'kununurra',\n",
       " 'dubenskiy',\n",
       " 'turayf',\n",
       " 'thompson',\n",
       " 'itarana',\n",
       " 'sisimiut',\n",
       " 'palmeira',\n",
       " 'general roca',\n",
       " 'teberda',\n",
       " 'pangody',\n",
       " 'cidreira',\n",
       " 'grand river south east',\n",
       " 'ponta do sol',\n",
       " 'kamenskoye',\n",
       " 'saleaula',\n",
       " 'cedar city',\n",
       " 'taoudenni',\n",
       " 'saskylakh',\n",
       " 'anchorage',\n",
       " 'klaksvik',\n",
       " 'zelenogorskiy',\n",
       " 'gornji vakuf',\n",
       " 'port hedland',\n",
       " 'tazmalt',\n",
       " 'foam lake',\n",
       " 'askiz',\n",
       " 'tambacounda',\n",
       " 'kananga',\n",
       " 'labuhan',\n",
       " 'qandala',\n",
       " 'kudahuvadhoo',\n",
       " 'talnakh',\n",
       " 'payo',\n",
       " 'progreso',\n",
       " 'lentekhi',\n",
       " 'palembang',\n",
       " 'jalu',\n",
       " 'broome',\n",
       " 'torbay',\n",
       " 'marcona',\n",
       " 'saint-paul',\n",
       " 'thai nguyen',\n",
       " 'sapao',\n",
       " 'malwan',\n",
       " 'barrhead',\n",
       " 'manoel urbano',\n",
       " 'tumannyy',\n",
       " 'xiuyan',\n",
       " 'samarai',\n",
       " 'halalo',\n",
       " 'kavieng',\n",
       " 'muros',\n",
       " 'praia',\n",
       " 'lasa',\n",
       " 'qui nhon',\n",
       " 'victoria',\n",
       " 'klyuchi',\n",
       " 'carutapera',\n",
       " 'taganak',\n",
       " 'coihaique',\n",
       " 'gujar khan',\n",
       " 'hornepayne',\n",
       " 'saldanha',\n",
       " 'bonthe',\n",
       " 'koumac',\n",
       " 'gambo',\n",
       " 'vila velha',\n",
       " 'vestmannaeyjar',\n",
       " 'longyearbyen',\n",
       " 'manzil salim',\n",
       " 'perevoz',\n",
       " 'sabang',\n",
       " 'antropovo',\n",
       " 'saint-francois',\n",
       " 'makhinjauri',\n",
       " 'tateyama',\n",
       " 'maraa',\n",
       " 'hemsedal',\n",
       " 'kushmurun',\n",
       " 'vardo',\n",
       " 'savannah bight',\n",
       " 'nanakuli',\n",
       " 'kanye',\n",
       " 'yantai',\n",
       " 'kerteh',\n",
       " 'erenhot',\n",
       " 'paamiut',\n",
       " 'poum',\n",
       " 'amderma',\n",
       " 'dunedin',\n",
       " 'moscow',\n",
       " 'sinjah',\n",
       " 'kaeo',\n",
       " 'derzhavinsk',\n",
       " 'xining',\n",
       " 'bolshegrivskoye',\n",
       " 'williams lake',\n",
       " 'namatanai',\n",
       " 'lompoc',\n",
       " 'samusu',\n",
       " 'danville',\n",
       " 'caravelas',\n",
       " 'riyadh',\n",
       " 'geraldton',\n",
       " 'tirumullaivasal',\n",
       " 'manono',\n",
       " 'husavik',\n",
       " 'batagay-alyta',\n",
       " 'tuatapere',\n",
       " 'sioux lookout',\n",
       " 'radeberg',\n",
       " 'broken hill',\n",
       " 'westpunt',\n",
       " 'yeppoon',\n",
       " 'lobito',\n",
       " 'susanville',\n",
       " 'aflu',\n",
       " 'aswan',\n",
       " 'hayden',\n",
       " 'veracruz',\n",
       " 'vila franca do campo',\n",
       " 'petropavl',\n",
       " 'dikson',\n",
       " 'mitu',\n",
       " 'okitipupa',\n",
       " 'aykhal',\n",
       " 'yomitan',\n",
       " 'roald',\n",
       " 'hay river',\n",
       " 'olafsvik',\n",
       " 'kailua',\n",
       " 'halifax',\n",
       " 'satuk',\n",
       " 'flin flon',\n",
       " 'labutta',\n",
       " 'breves',\n",
       " 'tonj',\n",
       " 'agrafa',\n",
       " 'nizhniy mamon',\n",
       " 'wenling',\n",
       " 'margate',\n",
       " 'port keats',\n",
       " 'avera',\n",
       " 'kalmunai',\n",
       " 'birao',\n",
       " 'mayor pablo lagerenza',\n",
       " 'kastamonu',\n",
       " 'necochea',\n",
       " 'tumalaytay',\n",
       " 'octeville',\n",
       " 'salalah',\n",
       " 'ijaki',\n",
       " 'tasiilaq',\n",
       " 'baixa grande',\n",
       " 'wairoa',\n",
       " 'ahipara',\n",
       " 'ostersund',\n",
       " 'port augusta',\n",
       " 'whitehorse',\n",
       " 'ust-nera',\n",
       " 'jiddah',\n",
       " 'rio gallegos',\n",
       " 'shenjiamen',\n",
       " 'onokhoy',\n",
       " 'jizan',\n",
       " 'srednekolymsk',\n",
       " 'port hardy',\n",
       " 'shihezi',\n",
       " 'faya',\n",
       " 'khash',\n",
       " 'acapulco',\n",
       " 'mizdah',\n",
       " 'khor',\n",
       " 'ola',\n",
       " 'loandjili',\n",
       " 'angoram',\n",
       " 'inhambane',\n",
       " 'acarau',\n",
       " 'sao paulo de olivenca',\n",
       " 'cosala',\n",
       " 'alta floresta',\n",
       " 'tahe',\n",
       " 'bongandanga',\n",
       " 'fort-shevchenko',\n",
       " 'melioratorov',\n",
       " 'sansai',\n",
       " 'clyde river',\n",
       " 'jinhua',\n",
       " 'bathsheba',\n",
       " 'lorengau',\n",
       " 'pisco',\n",
       " 'muzhi',\n",
       " 'orbetello',\n",
       " 'tabou',\n",
       " 'helong',\n",
       " 'nome',\n",
       " 'coquimbo',\n",
       " 'yar-sale',\n",
       " 'kearney',\n",
       " 'west bay',\n",
       " 'santander',\n",
       " 'mchinji',\n",
       " 'shelburne',\n",
       " 'lagoa',\n",
       " 'xinzhou',\n",
       " 'quartucciu',\n",
       " 'benin',\n",
       " 'namibe',\n",
       " 'bindi',\n",
       " 'sitka',\n",
       " 'warqla',\n",
       " 'antofagasta',\n",
       " 'ancud',\n",
       " 'hun',\n",
       " 'ulladulla',\n",
       " 'samalaeulu',\n",
       " 'cairns',\n",
       " 'asau',\n",
       " 'gillette',\n",
       " 'kasempa',\n",
       " 'olinda',\n",
       " 'bayir',\n",
       " 'buala',\n",
       " 'belmonte',\n",
       " 'tsihombe',\n",
       " 'zafra',\n",
       " 'havre-saint-pierre',\n",
       " 'urumqi',\n",
       " 'eirunepe',\n",
       " 'aqtobe',\n",
       " 'oiso',\n",
       " 'nevelsk',\n",
       " 'naze',\n",
       " 'benguela',\n",
       " 'komsomolskiy',\n",
       " 'nizhneyansk',\n",
       " 'goundam',\n",
       " 'kalemie',\n",
       " 'weyburn',\n",
       " 'itaueira',\n",
       " 'port arthur',\n",
       " 'mamallapuram',\n",
       " 'san pedro',\n",
       " 'mortka',\n",
       " 'aksu',\n",
       " 'san quintin',\n",
       " 'kirakira',\n",
       " 'ribas do rio pardo',\n",
       " 'ialibu',\n",
       " 'brigantine',\n",
       " 'solnechnyy',\n",
       " 'svetlaya',\n",
       " 'evensk',\n",
       " 'altamira',\n",
       " 'santa cruz',\n",
       " 'el alto',\n",
       " 'sterlitamak',\n",
       " 'bukama',\n",
       " 'quanzhou',\n",
       " 'grandola',\n",
       " 'bilma',\n",
       " 'praya',\n",
       " 'marquette',\n",
       " 'kargil',\n",
       " 'esna',\n",
       " 'yakshur-bodya',\n",
       " 'saint-leu',\n",
       " 'kavaratti',\n",
       " 'ongole',\n",
       " 'pakxan',\n",
       " 'aksarka',\n",
       " 'mikhaylovsk',\n",
       " 'santa rosalia',\n",
       " 'arenys de mar',\n",
       " 'havelock',\n",
       " 'along',\n",
       " 'kalas',\n",
       " 'davila',\n",
       " 'kumluca',\n",
       " 'codrington',\n",
       " 'pangai',\n",
       " 'unai',\n",
       " 'grindavik',\n",
       " 'vao',\n",
       " 'madison',\n",
       " 'havoysund',\n",
       " 'santa maria',\n",
       " 'the pas',\n",
       " 'bilibino',\n",
       " 'trat',\n",
       " 'gat',\n",
       " 'keetmanshoop',\n",
       " 'rocha',\n",
       " 'kiunga',\n",
       " 'nantucket',\n",
       " 'falesti',\n",
       " 'rungata',\n",
       " 'venado tuerto',\n",
       " 'ust-kamchatsk',\n",
       " 'muscle shoals',\n",
       " 'quatre cocos',\n",
       " 'portland',\n",
       " 'alzamay',\n",
       " 'pietarsaari',\n",
       " 'mayo',\n",
       " 'caraquet',\n",
       " 'pacific grove',\n",
       " 'abu jubayhah',\n",
       " 'port macquarie',\n",
       " 'alofi',\n",
       " 'reconquista',\n",
       " 'bereda',\n",
       " 'suez',\n",
       " 'bollnas',\n",
       " 'ereymentau',\n",
       " 'hermon',\n",
       " 'goundi',\n",
       " 'juneau',\n",
       " 'angoche',\n",
       " 'silifke',\n",
       " 'saint-pierre',\n",
       " 'conde',\n",
       " 'agadez',\n",
       " 'ginir',\n",
       " 'sorong',\n",
       " 'lichinga',\n",
       " 'snezhnogorsk',\n",
       " 'oranjemund',\n",
       " 'rabat',\n",
       " 'dhidhdhoo',\n",
       " 'hashtgerd',\n",
       " 'krasnogorsk',\n",
       " 'celestun',\n",
       " 'fare',\n",
       " 'tucumcari',\n",
       " 'fort nelson',\n",
       " 'slavonice',\n",
       " 'gerardmer',\n",
       " 'la ronge',\n",
       " 'matara',\n",
       " 'kumta',\n",
       " 'balaipungut',\n",
       " 'pitimbu',\n",
       " 'seoul',\n",
       " 'veraval',\n",
       " 'yulara',\n",
       " 'verkhnyaya inta',\n",
       " 'zyryanka',\n",
       " 'senanga',\n",
       " 'nouadhibou',\n",
       " 'taman',\n",
       " 'omsukchan',\n",
       " 'kiama',\n",
       " 'kysyl-syr',\n",
       " 'rurrenabaque',\n",
       " 'makhachkala',\n",
       " 'samana',\n",
       " 'sao francisco',\n",
       " 'inderborskiy',\n",
       " 'sobolevo',\n",
       " 'pangnirtung',\n",
       " 'sao domingos do maranhao',\n",
       " 'byron bay',\n",
       " 'te anau',\n",
       " 'puerto madryn',\n",
       " 'chagda',\n",
       " 'marystown',\n",
       " 'new iberia',\n",
       " 'baykit',\n",
       " 'lethbridge',\n",
       " 'buritizeiro',\n",
       " 'marsa matruh',\n",
       " 'mendahara',\n",
       " 'bethlehem',\n",
       " 'north bend',\n",
       " 'lata',\n",
       " 'bubaque',\n",
       " 'oksfjord',\n",
       " 'tura',\n",
       " 'victor harbor',\n",
       " 'skibbereen',\n",
       " 'jiblah',\n",
       " 'bad liebenzell',\n",
       " 'kurchum',\n",
       " 'iquique',\n",
       " 'taybad']"
      ]
     },
     "execution_count": 74,
     "metadata": {},
     "output_type": "execute_result"
    }
   ],
   "source": [
    "cities"
   ]
  },
  {
   "cell_type": "markdown",
   "metadata": {},
   "source": [
    "### Perform API Calls\n",
    "* Perform a weather check on each city using a series of successive API calls.\n",
    "* Include a print log of each city as it'sbeing processed (with the city number and city name).\n"
   ]
  },
  {
   "cell_type": "code",
   "execution_count": 16,
   "metadata": {},
   "outputs": [],
   "source": [
    "# Save config information.\n",
    "url = \"http://api.openweathermap.org/data/2.5/weather?\"\n",
    "units = \"metric\""
   ]
  },
  {
   "cell_type": "code",
   "execution_count": 64,
   "metadata": {},
   "outputs": [
    {
     "name": "stdout",
     "output_type": "stream",
     "text": [
      "-----------------------\n",
      "START PROCESSING DATA\n",
      "-----------------------\n",
      "Processing record for CITY: caconda  Where query_url is: http://api.openweathermap.org/data/2.5/weather?appid=f3f8549d4a030ca7b73cbfc8d924fc9c&q=caconda&units=imperial\n",
      "Processing record for CITY: punta arenas  Where query_url is: http://api.openweathermap.org/data/2.5/weather?appid=f3f8549d4a030ca7b73cbfc8d924fc9c&q=punta arenas&units=imperial\n",
      "Processing record for CITY: ushuaia  Where query_url is: http://api.openweathermap.org/data/2.5/weather?appid=f3f8549d4a030ca7b73cbfc8d924fc9c&q=ushuaia&units=imperial\n",
      "Processing record for CITY: ndele  Where query_url is: http://api.openweathermap.org/data/2.5/weather?appid=f3f8549d4a030ca7b73cbfc8d924fc9c&q=ndele&units=imperial\n",
      "Processing record for CITY: synya  Where query_url is: http://api.openweathermap.org/data/2.5/weather?appid=f3f8549d4a030ca7b73cbfc8d924fc9c&q=synya&units=imperial\n",
      "Processing record for CITY: chaiya  Where query_url is: http://api.openweathermap.org/data/2.5/weather?appid=f3f8549d4a030ca7b73cbfc8d924fc9c&q=chaiya&units=imperial\n",
      "Processing record for CITY: hilo  Where query_url is: http://api.openweathermap.org/data/2.5/weather?appid=f3f8549d4a030ca7b73cbfc8d924fc9c&q=hilo&units=imperial\n",
      "Processing record for CITY: chara  Where query_url is: http://api.openweathermap.org/data/2.5/weather?appid=f3f8549d4a030ca7b73cbfc8d924fc9c&q=chara&units=imperial\n",
      "Processing record for CITY: atuona  Where query_url is: http://api.openweathermap.org/data/2.5/weather?appid=f3f8549d4a030ca7b73cbfc8d924fc9c&q=atuona&units=imperial\n",
      "Processing record for CITY: ambilobe  Where query_url is: http://api.openweathermap.org/data/2.5/weather?appid=f3f8549d4a030ca7b73cbfc8d924fc9c&q=ambilobe&units=imperial\n",
      "Processing record for CITY: arraial do cabo  Where query_url is: http://api.openweathermap.org/data/2.5/weather?appid=f3f8549d4a030ca7b73cbfc8d924fc9c&q=arraial do cabo&units=imperial\n",
      "Processing record for CITY: tautira  Where query_url is: http://api.openweathermap.org/data/2.5/weather?appid=f3f8549d4a030ca7b73cbfc8d924fc9c&q=tautira&units=imperial\n",
      "Processing record for CITY: neiafu  Where query_url is: http://api.openweathermap.org/data/2.5/weather?appid=f3f8549d4a030ca7b73cbfc8d924fc9c&q=neiafu&units=imperial\n",
      "Processing record for CITY: touros  Where query_url is: http://api.openweathermap.org/data/2.5/weather?appid=f3f8549d4a030ca7b73cbfc8d924fc9c&q=touros&units=imperial\n",
      "Processing record for CITY: constitucion  Where query_url is: http://api.openweathermap.org/data/2.5/weather?appid=f3f8549d4a030ca7b73cbfc8d924fc9c&q=constitucion&units=imperial\n",
      "Processing record for CITY: yakima  Where query_url is: http://api.openweathermap.org/data/2.5/weather?appid=f3f8549d4a030ca7b73cbfc8d924fc9c&q=yakima&units=imperial\n",
      "Processing record for CITY: mangaluru  Where query_url is: http://api.openweathermap.org/data/2.5/weather?appid=f3f8549d4a030ca7b73cbfc8d924fc9c&q=mangaluru&units=imperial\n",
      "Processing record for CITY: alto araguaia  Where query_url is: http://api.openweathermap.org/data/2.5/weather?appid=f3f8549d4a030ca7b73cbfc8d924fc9c&q=alto araguaia&units=imperial\n",
      "Processing record for CITY: saint george  Where query_url is: http://api.openweathermap.org/data/2.5/weather?appid=f3f8549d4a030ca7b73cbfc8d924fc9c&q=saint george&units=imperial\n",
      "Processing record for CITY: vaini  Where query_url is: http://api.openweathermap.org/data/2.5/weather?appid=f3f8549d4a030ca7b73cbfc8d924fc9c&q=vaini&units=imperial\n",
      "Processing record for CITY: hermanus  Where query_url is: http://api.openweathermap.org/data/2.5/weather?appid=f3f8549d4a030ca7b73cbfc8d924fc9c&q=hermanus&units=imperial\n",
      "Processing record for CITY: vila  Where query_url is: http://api.openweathermap.org/data/2.5/weather?appid=f3f8549d4a030ca7b73cbfc8d924fc9c&q=vila&units=imperial\n",
      "Processing record for CITY: gizo  Where query_url is: http://api.openweathermap.org/data/2.5/weather?appid=f3f8549d4a030ca7b73cbfc8d924fc9c&q=gizo&units=imperial\n",
      "Processing record for CITY: mataura  Where query_url is: http://api.openweathermap.org/data/2.5/weather?appid=f3f8549d4a030ca7b73cbfc8d924fc9c&q=mataura&units=imperial\n",
      "Processing record for CITY: port elizabeth  Where query_url is: http://api.openweathermap.org/data/2.5/weather?appid=f3f8549d4a030ca7b73cbfc8d924fc9c&q=port elizabeth&units=imperial\n",
      "Processing record for CITY: verkhnevilyuysk  Where query_url is: http://api.openweathermap.org/data/2.5/weather?appid=f3f8549d4a030ca7b73cbfc8d924fc9c&q=verkhnevilyuysk&units=imperial\n",
      "Processing record for CITY: general jose eduvigis diaz  Where query_url is: http://api.openweathermap.org/data/2.5/weather?appid=f3f8549d4a030ca7b73cbfc8d924fc9c&q=general jose eduvigis diaz&units=imperial\n",
      "Processing record for CITY: kempele  Where query_url is: http://api.openweathermap.org/data/2.5/weather?appid=f3f8549d4a030ca7b73cbfc8d924fc9c&q=kempele&units=imperial\n",
      "Processing record for CITY: sorland  Where query_url is: http://api.openweathermap.org/data/2.5/weather?appid=f3f8549d4a030ca7b73cbfc8d924fc9c&q=sorland&units=imperial\n",
      "Processing record for CITY: aberdeen  Where query_url is: http://api.openweathermap.org/data/2.5/weather?appid=f3f8549d4a030ca7b73cbfc8d924fc9c&q=aberdeen&units=imperial\n",
      "Processing record for CITY: hobart  Where query_url is: http://api.openweathermap.org/data/2.5/weather?appid=f3f8549d4a030ca7b73cbfc8d924fc9c&q=hobart&units=imperial\n",
      "Processing record for CITY: suntar  Where query_url is: http://api.openweathermap.org/data/2.5/weather?appid=f3f8549d4a030ca7b73cbfc8d924fc9c&q=suntar&units=imperial\n",
      "Processing record for CITY: sao joao da barra  Where query_url is: http://api.openweathermap.org/data/2.5/weather?appid=f3f8549d4a030ca7b73cbfc8d924fc9c&q=sao joao da barra&units=imperial\n",
      "Processing record for CITY: cherskiy  Where query_url is: http://api.openweathermap.org/data/2.5/weather?appid=f3f8549d4a030ca7b73cbfc8d924fc9c&q=cherskiy&units=imperial\n",
      "Processing record for CITY: luderitz  Where query_url is: http://api.openweathermap.org/data/2.5/weather?appid=f3f8549d4a030ca7b73cbfc8d924fc9c&q=luderitz&units=imperial\n",
      "Processing record for CITY: rikitea  Where query_url is: http://api.openweathermap.org/data/2.5/weather?appid=f3f8549d4a030ca7b73cbfc8d924fc9c&q=rikitea&units=imperial\n",
      "Processing record for CITY: shenzhen  Where query_url is: http://api.openweathermap.org/data/2.5/weather?appid=f3f8549d4a030ca7b73cbfc8d924fc9c&q=shenzhen&units=imperial\n",
      "Processing record for CITY: chokurdakh  Where query_url is: http://api.openweathermap.org/data/2.5/weather?appid=f3f8549d4a030ca7b73cbfc8d924fc9c&q=chokurdakh&units=imperial\n",
      "Processing record for CITY: kapaa  Where query_url is: http://api.openweathermap.org/data/2.5/weather?appid=f3f8549d4a030ca7b73cbfc8d924fc9c&q=kapaa&units=imperial\n",
      "Processing record for CITY: port alfred  Where query_url is: http://api.openweathermap.org/data/2.5/weather?appid=f3f8549d4a030ca7b73cbfc8d924fc9c&q=port alfred&units=imperial\n",
      "Processing record for CITY: lexington  Where query_url is: http://api.openweathermap.org/data/2.5/weather?appid=f3f8549d4a030ca7b73cbfc8d924fc9c&q=lexington&units=imperial\n",
      "Processing record for CITY: east london  Where query_url is: http://api.openweathermap.org/data/2.5/weather?appid=f3f8549d4a030ca7b73cbfc8d924fc9c&q=east london&units=imperial\n",
      "Processing record for CITY: maragogi  Where query_url is: http://api.openweathermap.org/data/2.5/weather?appid=f3f8549d4a030ca7b73cbfc8d924fc9c&q=maragogi&units=imperial\n",
      "Processing record for CITY: dingle  Where query_url is: http://api.openweathermap.org/data/2.5/weather?appid=f3f8549d4a030ca7b73cbfc8d924fc9c&q=dingle&units=imperial\n",
      "Processing record for CITY: qaanaaq  Where query_url is: http://api.openweathermap.org/data/2.5/weather?appid=f3f8549d4a030ca7b73cbfc8d924fc9c&q=qaanaaq&units=imperial\n",
      "Processing record for CITY: leningradskiy  Where query_url is: http://api.openweathermap.org/data/2.5/weather?appid=f3f8549d4a030ca7b73cbfc8d924fc9c&q=leningradskiy&units=imperial\n",
      "Processing record for CITY: mount gambier  Where query_url is: http://api.openweathermap.org/data/2.5/weather?appid=f3f8549d4a030ca7b73cbfc8d924fc9c&q=mount gambier&units=imperial\n",
      "Processing record for CITY: ponta delgada  Where query_url is: http://api.openweathermap.org/data/2.5/weather?appid=f3f8549d4a030ca7b73cbfc8d924fc9c&q=ponta delgada&units=imperial\n"
     ]
    },
    {
     "name": "stdout",
     "output_type": "stream",
     "text": [
      "Processing record for CITY: taozhuang  Where query_url is: http://api.openweathermap.org/data/2.5/weather?appid=f3f8549d4a030ca7b73cbfc8d924fc9c&q=taozhuang&units=imperial\n",
      "Processing record for CITY: moron  Where query_url is: http://api.openweathermap.org/data/2.5/weather?appid=f3f8549d4a030ca7b73cbfc8d924fc9c&q=moron&units=imperial\n",
      "Processing record for CITY: porto novo  Where query_url is: http://api.openweathermap.org/data/2.5/weather?appid=f3f8549d4a030ca7b73cbfc8d924fc9c&q=porto novo&units=imperial\n",
      "Processing record for CITY: airai  Where query_url is: http://api.openweathermap.org/data/2.5/weather?appid=f3f8549d4a030ca7b73cbfc8d924fc9c&q=airai&units=imperial\n",
      "Processing record for CITY: porbandar  Where query_url is: http://api.openweathermap.org/data/2.5/weather?appid=f3f8549d4a030ca7b73cbfc8d924fc9c&q=porbandar&units=imperial\n",
      "Processing record for CITY: mount hagen  Where query_url is: http://api.openweathermap.org/data/2.5/weather?appid=f3f8549d4a030ca7b73cbfc8d924fc9c&q=mount hagen&units=imperial\n",
      "Processing record for CITY: lebu  Where query_url is: http://api.openweathermap.org/data/2.5/weather?appid=f3f8549d4a030ca7b73cbfc8d924fc9c&q=lebu&units=imperial\n",
      "Processing record for CITY: mahebourg  Where query_url is: http://api.openweathermap.org/data/2.5/weather?appid=f3f8549d4a030ca7b73cbfc8d924fc9c&q=mahebourg&units=imperial\n",
      "Processing record for CITY: hasaki  Where query_url is: http://api.openweathermap.org/data/2.5/weather?appid=f3f8549d4a030ca7b73cbfc8d924fc9c&q=hasaki&units=imperial\n",
      "Processing record for CITY: barrow  Where query_url is: http://api.openweathermap.org/data/2.5/weather?appid=f3f8549d4a030ca7b73cbfc8d924fc9c&q=barrow&units=imperial\n",
      "Processing record for CITY: albany  Where query_url is: http://api.openweathermap.org/data/2.5/weather?appid=f3f8549d4a030ca7b73cbfc8d924fc9c&q=albany&units=imperial\n",
      "Processing record for CITY: umm lajj  Where query_url is: http://api.openweathermap.org/data/2.5/weather?appid=f3f8549d4a030ca7b73cbfc8d924fc9c&q=umm lajj&units=imperial\n",
      "Processing record for CITY: kruisfontein  Where query_url is: http://api.openweathermap.org/data/2.5/weather?appid=f3f8549d4a030ca7b73cbfc8d924fc9c&q=kruisfontein&units=imperial\n",
      "Processing record for CITY: rousinov  Where query_url is: http://api.openweathermap.org/data/2.5/weather?appid=f3f8549d4a030ca7b73cbfc8d924fc9c&q=rousinov&units=imperial\n",
      "Processing record for CITY: shirokiy  Where query_url is: http://api.openweathermap.org/data/2.5/weather?appid=f3f8549d4a030ca7b73cbfc8d924fc9c&q=shirokiy&units=imperial\n",
      "Processing record for CITY: carndonagh  Where query_url is: http://api.openweathermap.org/data/2.5/weather?appid=f3f8549d4a030ca7b73cbfc8d924fc9c&q=carndonagh&units=imperial\n",
      "Processing record for CITY: bethel  Where query_url is: http://api.openweathermap.org/data/2.5/weather?appid=f3f8549d4a030ca7b73cbfc8d924fc9c&q=bethel&units=imperial\n",
      "Processing record for CITY: korla  Where query_url is: http://api.openweathermap.org/data/2.5/weather?appid=f3f8549d4a030ca7b73cbfc8d924fc9c&q=korla&units=imperial\n",
      "Processing record for CITY: butaritari  Where query_url is: http://api.openweathermap.org/data/2.5/weather?appid=f3f8549d4a030ca7b73cbfc8d924fc9c&q=butaritari&units=imperial\n",
      "Processing record for CITY: nishihara  Where query_url is: http://api.openweathermap.org/data/2.5/weather?appid=f3f8549d4a030ca7b73cbfc8d924fc9c&q=nishihara&units=imperial\n",
      "Processing record for CITY: piacabucu  Where query_url is: http://api.openweathermap.org/data/2.5/weather?appid=f3f8549d4a030ca7b73cbfc8d924fc9c&q=piacabucu&units=imperial\n",
      "Processing record for CITY: ribeira grande  Where query_url is: http://api.openweathermap.org/data/2.5/weather?appid=f3f8549d4a030ca7b73cbfc8d924fc9c&q=ribeira grande&units=imperial\n",
      "Processing record for CITY: manavalakurichi  Where query_url is: http://api.openweathermap.org/data/2.5/weather?appid=f3f8549d4a030ca7b73cbfc8d924fc9c&q=manavalakurichi&units=imperial\n",
      "Processing record for CITY: avarua  Where query_url is: http://api.openweathermap.org/data/2.5/weather?appid=f3f8549d4a030ca7b73cbfc8d924fc9c&q=avarua&units=imperial\n",
      "Processing record for CITY: makakilo city  Where query_url is: http://api.openweathermap.org/data/2.5/weather?appid=f3f8549d4a030ca7b73cbfc8d924fc9c&q=makakilo city&units=imperial\n",
      "Processing record for CITY: nikolskoye  Where query_url is: http://api.openweathermap.org/data/2.5/weather?appid=f3f8549d4a030ca7b73cbfc8d924fc9c&q=nikolskoye&units=imperial\n",
      "Processing record for CITY: mehamn  Where query_url is: http://api.openweathermap.org/data/2.5/weather?appid=f3f8549d4a030ca7b73cbfc8d924fc9c&q=mehamn&units=imperial\n",
      "Processing record for CITY: port shepstone  Where query_url is: http://api.openweathermap.org/data/2.5/weather?appid=f3f8549d4a030ca7b73cbfc8d924fc9c&q=port shepstone&units=imperial\n",
      "Processing record for CITY: rostov  Where query_url is: http://api.openweathermap.org/data/2.5/weather?appid=f3f8549d4a030ca7b73cbfc8d924fc9c&q=rostov&units=imperial\n",
      "Processing record for CITY: padang  Where query_url is: http://api.openweathermap.org/data/2.5/weather?appid=f3f8549d4a030ca7b73cbfc8d924fc9c&q=padang&units=imperial\n",
      "Processing record for CITY: busselton  Where query_url is: http://api.openweathermap.org/data/2.5/weather?appid=f3f8549d4a030ca7b73cbfc8d924fc9c&q=busselton&units=imperial\n",
      "Processing record for CITY: new norfolk  Where query_url is: http://api.openweathermap.org/data/2.5/weather?appid=f3f8549d4a030ca7b73cbfc8d924fc9c&q=new norfolk&units=imperial\n",
      "Processing record for CITY: preobrazheniye  Where query_url is: http://api.openweathermap.org/data/2.5/weather?appid=f3f8549d4a030ca7b73cbfc8d924fc9c&q=preobrazheniye&units=imperial\n",
      "Processing record for CITY: phalodi  Where query_url is: http://api.openweathermap.org/data/2.5/weather?appid=f3f8549d4a030ca7b73cbfc8d924fc9c&q=phalodi&units=imperial\n",
      "Processing record for CITY: saint-philippe  Where query_url is: http://api.openweathermap.org/data/2.5/weather?appid=f3f8549d4a030ca7b73cbfc8d924fc9c&q=saint-philippe&units=imperial\n",
      "Processing record for CITY: kalat  Where query_url is: http://api.openweathermap.org/data/2.5/weather?appid=f3f8549d4a030ca7b73cbfc8d924fc9c&q=kalat&units=imperial\n",
      "Processing record for CITY: aklavik  Where query_url is: http://api.openweathermap.org/data/2.5/weather?appid=f3f8549d4a030ca7b73cbfc8d924fc9c&q=aklavik&units=imperial\n",
      "Processing record for CITY: chegdomyn  Where query_url is: http://api.openweathermap.org/data/2.5/weather?appid=f3f8549d4a030ca7b73cbfc8d924fc9c&q=chegdomyn&units=imperial\n",
      "Processing record for CITY: oranjestad  Where query_url is: http://api.openweathermap.org/data/2.5/weather?appid=f3f8549d4a030ca7b73cbfc8d924fc9c&q=oranjestad&units=imperial\n",
      "Processing record for CITY: cabo san lucas  Where query_url is: http://api.openweathermap.org/data/2.5/weather?appid=f3f8549d4a030ca7b73cbfc8d924fc9c&q=cabo san lucas&units=imperial\n",
      "Processing record for CITY: bluff  Where query_url is: http://api.openweathermap.org/data/2.5/weather?appid=f3f8549d4a030ca7b73cbfc8d924fc9c&q=bluff&units=imperial\n",
      "Processing record for CITY: yatou  Where query_url is: http://api.openweathermap.org/data/2.5/weather?appid=f3f8549d4a030ca7b73cbfc8d924fc9c&q=yatou&units=imperial\n",
      "Processing record for CITY: puerto ayora  Where query_url is: http://api.openweathermap.org/data/2.5/weather?appid=f3f8549d4a030ca7b73cbfc8d924fc9c&q=puerto ayora&units=imperial\n",
      "Processing record for CITY: cape town  Where query_url is: http://api.openweathermap.org/data/2.5/weather?appid=f3f8549d4a030ca7b73cbfc8d924fc9c&q=cape town&units=imperial\n",
      "Processing record for CITY: pevek  Where query_url is: http://api.openweathermap.org/data/2.5/weather?appid=f3f8549d4a030ca7b73cbfc8d924fc9c&q=pevek&units=imperial\n",
      "Processing record for CITY: port lincoln  Where query_url is: http://api.openweathermap.org/data/2.5/weather?appid=f3f8549d4a030ca7b73cbfc8d924fc9c&q=port lincoln&units=imperial\n",
      "Processing record for CITY: molteno  Where query_url is: http://api.openweathermap.org/data/2.5/weather?appid=f3f8549d4a030ca7b73cbfc8d924fc9c&q=molteno&units=imperial\n",
      "Processing record for CITY: krasnoarmeysk  Where query_url is: http://api.openweathermap.org/data/2.5/weather?appid=f3f8549d4a030ca7b73cbfc8d924fc9c&q=krasnoarmeysk&units=imperial\n"
     ]
    },
    {
     "name": "stdout",
     "output_type": "stream",
     "text": [
      "Processing record for CITY: upernavik  Where query_url is: http://api.openweathermap.org/data/2.5/weather?appid=f3f8549d4a030ca7b73cbfc8d924fc9c&q=upernavik&units=imperial\n",
      "Processing record for CITY: oran  Where query_url is: http://api.openweathermap.org/data/2.5/weather?appid=f3f8549d4a030ca7b73cbfc8d924fc9c&q=oran&units=imperial\n",
      "Processing record for CITY: bredasdorp  Where query_url is: http://api.openweathermap.org/data/2.5/weather?appid=f3f8549d4a030ca7b73cbfc8d924fc9c&q=bredasdorp&units=imperial\n",
      "Processing record for CITY: tilichiki  Where query_url is: http://api.openweathermap.org/data/2.5/weather?appid=f3f8549d4a030ca7b73cbfc8d924fc9c&q=tilichiki&units=imperial\n",
      "Processing record for CITY: saint-joseph  Where query_url is: http://api.openweathermap.org/data/2.5/weather?appid=f3f8549d4a030ca7b73cbfc8d924fc9c&q=saint-joseph&units=imperial\n",
      "Processing record for CITY: cap-aux-meules  Where query_url is: http://api.openweathermap.org/data/2.5/weather?appid=f3f8549d4a030ca7b73cbfc8d924fc9c&q=cap-aux-meules&units=imperial\n",
      "Processing record for CITY: paramonga  Where query_url is: http://api.openweathermap.org/data/2.5/weather?appid=f3f8549d4a030ca7b73cbfc8d924fc9c&q=paramonga&units=imperial\n",
      "Processing record for CITY: cap malheureux  Where query_url is: http://api.openweathermap.org/data/2.5/weather?appid=f3f8549d4a030ca7b73cbfc8d924fc9c&q=cap malheureux&units=imperial\n",
      "Processing record for CITY: nanortalik  Where query_url is: http://api.openweathermap.org/data/2.5/weather?appid=f3f8549d4a030ca7b73cbfc8d924fc9c&q=nanortalik&units=imperial\n",
      "Processing record for CITY: nyurba  Where query_url is: http://api.openweathermap.org/data/2.5/weather?appid=f3f8549d4a030ca7b73cbfc8d924fc9c&q=nyurba&units=imperial\n",
      "Processing record for CITY: urengoy  Where query_url is: http://api.openweathermap.org/data/2.5/weather?appid=f3f8549d4a030ca7b73cbfc8d924fc9c&q=urengoy&units=imperial\n",
      "Processing record for CITY: hofn  Where query_url is: http://api.openweathermap.org/data/2.5/weather?appid=f3f8549d4a030ca7b73cbfc8d924fc9c&q=hofn&units=imperial\n",
      "Processing record for CITY: carnarvon  Where query_url is: http://api.openweathermap.org/data/2.5/weather?appid=f3f8549d4a030ca7b73cbfc8d924fc9c&q=carnarvon&units=imperial\n",
      "Processing record for CITY: sechura  Where query_url is: http://api.openweathermap.org/data/2.5/weather?appid=f3f8549d4a030ca7b73cbfc8d924fc9c&q=sechura&units=imperial\n",
      "Processing record for CITY: esperance  Where query_url is: http://api.openweathermap.org/data/2.5/weather?appid=f3f8549d4a030ca7b73cbfc8d924fc9c&q=esperance&units=imperial\n",
      "Processing record for CITY: chuy  Where query_url is: http://api.openweathermap.org/data/2.5/weather?appid=f3f8549d4a030ca7b73cbfc8d924fc9c&q=chuy&units=imperial\n",
      "Processing record for CITY: sola  Where query_url is: http://api.openweathermap.org/data/2.5/weather?appid=f3f8549d4a030ca7b73cbfc8d924fc9c&q=sola&units=imperial\n",
      "Processing record for CITY: wilmington  Where query_url is: http://api.openweathermap.org/data/2.5/weather?appid=f3f8549d4a030ca7b73cbfc8d924fc9c&q=wilmington&units=imperial\n",
      "Processing record for CITY: katsuura  Where query_url is: http://api.openweathermap.org/data/2.5/weather?appid=f3f8549d4a030ca7b73cbfc8d924fc9c&q=katsuura&units=imperial\n",
      "Processing record for CITY: la grande  Where query_url is: http://api.openweathermap.org/data/2.5/weather?appid=f3f8549d4a030ca7b73cbfc8d924fc9c&q=la grande&units=imperial\n",
      "Processing record for CITY: kaitangata  Where query_url is: http://api.openweathermap.org/data/2.5/weather?appid=f3f8549d4a030ca7b73cbfc8d924fc9c&q=kaitangata&units=imperial\n",
      "Processing record for CITY: camacha  Where query_url is: http://api.openweathermap.org/data/2.5/weather?appid=f3f8549d4a030ca7b73cbfc8d924fc9c&q=camacha&units=imperial\n",
      "Processing record for CITY: dongargaon  Where query_url is: http://api.openweathermap.org/data/2.5/weather?appid=f3f8549d4a030ca7b73cbfc8d924fc9c&q=dongargaon&units=imperial\n",
      "Processing record for CITY: kostomuksha  Where query_url is: http://api.openweathermap.org/data/2.5/weather?appid=f3f8549d4a030ca7b73cbfc8d924fc9c&q=kostomuksha&units=imperial\n",
      "Processing record for CITY: castro  Where query_url is: http://api.openweathermap.org/data/2.5/weather?appid=f3f8549d4a030ca7b73cbfc8d924fc9c&q=castro&units=imperial\n",
      "Processing record for CITY: meadow lake  Where query_url is: http://api.openweathermap.org/data/2.5/weather?appid=f3f8549d4a030ca7b73cbfc8d924fc9c&q=meadow lake&units=imperial\n",
      "Processing record for CITY: malkara  Where query_url is: http://api.openweathermap.org/data/2.5/weather?appid=f3f8549d4a030ca7b73cbfc8d924fc9c&q=malkara&units=imperial\n",
      "Processing record for CITY: kodiak  Where query_url is: http://api.openweathermap.org/data/2.5/weather?appid=f3f8549d4a030ca7b73cbfc8d924fc9c&q=kodiak&units=imperial\n",
      "Processing record for CITY: kahului  Where query_url is: http://api.openweathermap.org/data/2.5/weather?appid=f3f8549d4a030ca7b73cbfc8d924fc9c&q=kahului&units=imperial\n",
      "Processing record for CITY: nemuro  Where query_url is: http://api.openweathermap.org/data/2.5/weather?appid=f3f8549d4a030ca7b73cbfc8d924fc9c&q=nemuro&units=imperial\n",
      "Processing record for CITY: jalalabad  Where query_url is: http://api.openweathermap.org/data/2.5/weather?appid=f3f8549d4a030ca7b73cbfc8d924fc9c&q=jalalabad&units=imperial\n",
      "Processing record for CITY: bandarbeyla  Where query_url is: http://api.openweathermap.org/data/2.5/weather?appid=f3f8549d4a030ca7b73cbfc8d924fc9c&q=bandarbeyla&units=imperial\n",
      "Processing record for CITY: mareeba  Where query_url is: http://api.openweathermap.org/data/2.5/weather?appid=f3f8549d4a030ca7b73cbfc8d924fc9c&q=mareeba&units=imperial\n",
      "Processing record for CITY: stonewall  Where query_url is: http://api.openweathermap.org/data/2.5/weather?appid=f3f8549d4a030ca7b73cbfc8d924fc9c&q=stonewall&units=imperial\n",
      "Processing record for CITY: posse  Where query_url is: http://api.openweathermap.org/data/2.5/weather?appid=f3f8549d4a030ca7b73cbfc8d924fc9c&q=posse&units=imperial\n",
      "Processing record for CITY: dicabisagan  Where query_url is: http://api.openweathermap.org/data/2.5/weather?appid=f3f8549d4a030ca7b73cbfc8d924fc9c&q=dicabisagan&units=imperial\n",
      "Processing record for CITY: mao  Where query_url is: http://api.openweathermap.org/data/2.5/weather?appid=f3f8549d4a030ca7b73cbfc8d924fc9c&q=mao&units=imperial\n",
      "Processing record for CITY: rjukan  Where query_url is: http://api.openweathermap.org/data/2.5/weather?appid=f3f8549d4a030ca7b73cbfc8d924fc9c&q=rjukan&units=imperial\n",
      "Processing record for CITY: harper  Where query_url is: http://api.openweathermap.org/data/2.5/weather?appid=f3f8549d4a030ca7b73cbfc8d924fc9c&q=harper&units=imperial\n",
      "Processing record for CITY: meulaboh  Where query_url is: http://api.openweathermap.org/data/2.5/weather?appid=f3f8549d4a030ca7b73cbfc8d924fc9c&q=meulaboh&units=imperial\n",
      "Processing record for CITY: nanding  Where query_url is: http://api.openweathermap.org/data/2.5/weather?appid=f3f8549d4a030ca7b73cbfc8d924fc9c&q=nanding&units=imperial\n",
      "Processing record for CITY: souillac  Where query_url is: http://api.openweathermap.org/data/2.5/weather?appid=f3f8549d4a030ca7b73cbfc8d924fc9c&q=souillac&units=imperial\n",
      "Processing record for CITY: chicomuselo  Where query_url is: http://api.openweathermap.org/data/2.5/weather?appid=f3f8549d4a030ca7b73cbfc8d924fc9c&q=chicomuselo&units=imperial\n",
      "Processing record for CITY: khatanga  Where query_url is: http://api.openweathermap.org/data/2.5/weather?appid=f3f8549d4a030ca7b73cbfc8d924fc9c&q=khatanga&units=imperial\n",
      "Processing record for CITY: antalaha  Where query_url is: http://api.openweathermap.org/data/2.5/weather?appid=f3f8549d4a030ca7b73cbfc8d924fc9c&q=antalaha&units=imperial\n",
      "Processing record for CITY: pervoavgustovskiy  Where query_url is: http://api.openweathermap.org/data/2.5/weather?appid=f3f8549d4a030ca7b73cbfc8d924fc9c&q=pervoavgustovskiy&units=imperial\n",
      "Processing record for CITY: mayumba  Where query_url is: http://api.openweathermap.org/data/2.5/weather?appid=f3f8549d4a030ca7b73cbfc8d924fc9c&q=mayumba&units=imperial\n",
      "Processing record for CITY: kasongo-lunda  Where query_url is: http://api.openweathermap.org/data/2.5/weather?appid=f3f8549d4a030ca7b73cbfc8d924fc9c&q=kasongo-lunda&units=imperial\n",
      "Processing record for CITY: norman wells  Where query_url is: http://api.openweathermap.org/data/2.5/weather?appid=f3f8549d4a030ca7b73cbfc8d924fc9c&q=norman wells&units=imperial\n"
     ]
    },
    {
     "name": "stdout",
     "output_type": "stream",
     "text": [
      "Processing record for CITY: beringovskiy  Where query_url is: http://api.openweathermap.org/data/2.5/weather?appid=f3f8549d4a030ca7b73cbfc8d924fc9c&q=beringovskiy&units=imperial\n",
      "Processing record for CITY: faanui  Where query_url is: http://api.openweathermap.org/data/2.5/weather?appid=f3f8549d4a030ca7b73cbfc8d924fc9c&q=faanui&units=imperial\n",
      "Processing record for CITY: narsaq  Where query_url is: http://api.openweathermap.org/data/2.5/weather?appid=f3f8549d4a030ca7b73cbfc8d924fc9c&q=narsaq&units=imperial\n",
      "Processing record for CITY: anadyr  Where query_url is: http://api.openweathermap.org/data/2.5/weather?appid=f3f8549d4a030ca7b73cbfc8d924fc9c&q=anadyr&units=imperial\n",
      "Processing record for CITY: bartlesville  Where query_url is: http://api.openweathermap.org/data/2.5/weather?appid=f3f8549d4a030ca7b73cbfc8d924fc9c&q=bartlesville&units=imperial\n",
      "Processing record for CITY: iqaluit  Where query_url is: http://api.openweathermap.org/data/2.5/weather?appid=f3f8549d4a030ca7b73cbfc8d924fc9c&q=iqaluit&units=imperial\n",
      "Processing record for CITY: hualmay  Where query_url is: http://api.openweathermap.org/data/2.5/weather?appid=f3f8549d4a030ca7b73cbfc8d924fc9c&q=hualmay&units=imperial\n",
      "Processing record for CITY: yumen  Where query_url is: http://api.openweathermap.org/data/2.5/weather?appid=f3f8549d4a030ca7b73cbfc8d924fc9c&q=yumen&units=imperial\n",
      "Processing record for CITY: mersin  Where query_url is: http://api.openweathermap.org/data/2.5/weather?appid=f3f8549d4a030ca7b73cbfc8d924fc9c&q=mersin&units=imperial\n",
      "Processing record for CITY: bambous virieux  Where query_url is: http://api.openweathermap.org/data/2.5/weather?appid=f3f8549d4a030ca7b73cbfc8d924fc9c&q=bambous virieux&units=imperial\n",
      "Processing record for CITY: svarstad  Where query_url is: http://api.openweathermap.org/data/2.5/weather?appid=f3f8549d4a030ca7b73cbfc8d924fc9c&q=svarstad&units=imperial\n",
      "Processing record for CITY: rawson  Where query_url is: http://api.openweathermap.org/data/2.5/weather?appid=f3f8549d4a030ca7b73cbfc8d924fc9c&q=rawson&units=imperial\n",
      "Processing record for CITY: tiksi  Where query_url is: http://api.openweathermap.org/data/2.5/weather?appid=f3f8549d4a030ca7b73cbfc8d924fc9c&q=tiksi&units=imperial\n",
      "Processing record for CITY: tuktoyaktuk  Where query_url is: http://api.openweathermap.org/data/2.5/weather?appid=f3f8549d4a030ca7b73cbfc8d924fc9c&q=tuktoyaktuk&units=imperial\n",
      "Processing record for CITY: aleksandrov gay  Where query_url is: http://api.openweathermap.org/data/2.5/weather?appid=f3f8549d4a030ca7b73cbfc8d924fc9c&q=aleksandrov gay&units=imperial\n",
      "Processing record for CITY: westport  Where query_url is: http://api.openweathermap.org/data/2.5/weather?appid=f3f8549d4a030ca7b73cbfc8d924fc9c&q=westport&units=imperial\n",
      "Processing record for CITY: dzhebariki-khaya  Where query_url is: http://api.openweathermap.org/data/2.5/weather?appid=f3f8549d4a030ca7b73cbfc8d924fc9c&q=dzhebariki-khaya&units=imperial\n",
      "Processing record for CITY: los banos  Where query_url is: http://api.openweathermap.org/data/2.5/weather?appid=f3f8549d4a030ca7b73cbfc8d924fc9c&q=los banos&units=imperial\n",
      "Processing record for CITY: ilulissat  Where query_url is: http://api.openweathermap.org/data/2.5/weather?appid=f3f8549d4a030ca7b73cbfc8d924fc9c&q=ilulissat&units=imperial\n",
      "Processing record for CITY: jamestown  Where query_url is: http://api.openweathermap.org/data/2.5/weather?appid=f3f8549d4a030ca7b73cbfc8d924fc9c&q=jamestown&units=imperial\n",
      "Processing record for CITY: ponca city  Where query_url is: http://api.openweathermap.org/data/2.5/weather?appid=f3f8549d4a030ca7b73cbfc8d924fc9c&q=ponca city&units=imperial\n",
      "Processing record for CITY: coahuayana  Where query_url is: http://api.openweathermap.org/data/2.5/weather?appid=f3f8549d4a030ca7b73cbfc8d924fc9c&q=coahuayana&units=imperial\n",
      "Processing record for CITY: aurad  Where query_url is: http://api.openweathermap.org/data/2.5/weather?appid=f3f8549d4a030ca7b73cbfc8d924fc9c&q=aurad&units=imperial\n",
      "Processing record for CITY: abu samrah  Where query_url is: http://api.openweathermap.org/data/2.5/weather?appid=f3f8549d4a030ca7b73cbfc8d924fc9c&q=abu samrah&units=imperial\n",
      "Processing record for CITY: half moon bay  Where query_url is: http://api.openweathermap.org/data/2.5/weather?appid=f3f8549d4a030ca7b73cbfc8d924fc9c&q=half moon bay&units=imperial\n",
      "Processing record for CITY: zadar  Where query_url is: http://api.openweathermap.org/data/2.5/weather?appid=f3f8549d4a030ca7b73cbfc8d924fc9c&q=zadar&units=imperial\n",
      "Processing record for CITY: provideniya  Where query_url is: http://api.openweathermap.org/data/2.5/weather?appid=f3f8549d4a030ca7b73cbfc8d924fc9c&q=provideniya&units=imperial\n",
      "Processing record for CITY: shingu  Where query_url is: http://api.openweathermap.org/data/2.5/weather?appid=f3f8549d4a030ca7b73cbfc8d924fc9c&q=shingu&units=imperial\n",
      "Processing record for CITY: hambantota  Where query_url is: http://api.openweathermap.org/data/2.5/weather?appid=f3f8549d4a030ca7b73cbfc8d924fc9c&q=hambantota&units=imperial\n",
      "Processing record for CITY: mar del plata  Where query_url is: http://api.openweathermap.org/data/2.5/weather?appid=f3f8549d4a030ca7b73cbfc8d924fc9c&q=mar del plata&units=imperial\n",
      "Processing record for CITY: carlibaba  Where query_url is: http://api.openweathermap.org/data/2.5/weather?appid=f3f8549d4a030ca7b73cbfc8d924fc9c&q=carlibaba&units=imperial\n",
      "Processing record for CITY: yellowknife  Where query_url is: http://api.openweathermap.org/data/2.5/weather?appid=f3f8549d4a030ca7b73cbfc8d924fc9c&q=yellowknife&units=imperial\n",
      "Processing record for CITY: laguna  Where query_url is: http://api.openweathermap.org/data/2.5/weather?appid=f3f8549d4a030ca7b73cbfc8d924fc9c&q=laguna&units=imperial\n",
      "Processing record for CITY: bengkulu  Where query_url is: http://api.openweathermap.org/data/2.5/weather?appid=f3f8549d4a030ca7b73cbfc8d924fc9c&q=bengkulu&units=imperial\n",
      "Processing record for CITY: lincoln  Where query_url is: http://api.openweathermap.org/data/2.5/weather?appid=f3f8549d4a030ca7b73cbfc8d924fc9c&q=lincoln&units=imperial\n",
      "Processing record for CITY: rena  Where query_url is: http://api.openweathermap.org/data/2.5/weather?appid=f3f8549d4a030ca7b73cbfc8d924fc9c&q=rena&units=imperial\n",
      "Processing record for CITY: sur  Where query_url is: http://api.openweathermap.org/data/2.5/weather?appid=f3f8549d4a030ca7b73cbfc8d924fc9c&q=sur&units=imperial\n",
      "Processing record for CITY: hithadhoo  Where query_url is: http://api.openweathermap.org/data/2.5/weather?appid=f3f8549d4a030ca7b73cbfc8d924fc9c&q=hithadhoo&units=imperial\n",
      "Processing record for CITY: severo-kurilsk  Where query_url is: http://api.openweathermap.org/data/2.5/weather?appid=f3f8549d4a030ca7b73cbfc8d924fc9c&q=severo-kurilsk&units=imperial\n",
      "Processing record for CITY: betioky  Where query_url is: http://api.openweathermap.org/data/2.5/weather?appid=f3f8549d4a030ca7b73cbfc8d924fc9c&q=betioky&units=imperial\n",
      "Processing record for CITY: georgetown  Where query_url is: http://api.openweathermap.org/data/2.5/weather?appid=f3f8549d4a030ca7b73cbfc8d924fc9c&q=georgetown&units=imperial\n",
      "Processing record for CITY: ozuluama  Where query_url is: http://api.openweathermap.org/data/2.5/weather?appid=f3f8549d4a030ca7b73cbfc8d924fc9c&q=ozuluama&units=imperial\n",
      "Processing record for CITY: nicoya  Where query_url is: http://api.openweathermap.org/data/2.5/weather?appid=f3f8549d4a030ca7b73cbfc8d924fc9c&q=nicoya&units=imperial\n",
      "Processing record for CITY: nyagan  Where query_url is: http://api.openweathermap.org/data/2.5/weather?appid=f3f8549d4a030ca7b73cbfc8d924fc9c&q=nyagan&units=imperial\n",
      "Processing record for CITY: la gomera  Where query_url is: http://api.openweathermap.org/data/2.5/weather?appid=f3f8549d4a030ca7b73cbfc8d924fc9c&q=la gomera&units=imperial\n",
      "Processing record for CITY: sept-iles  Where query_url is: http://api.openweathermap.org/data/2.5/weather?appid=f3f8549d4a030ca7b73cbfc8d924fc9c&q=sept-iles&units=imperial\n",
      "Processing record for CITY: krasnyy chikoy  Where query_url is: http://api.openweathermap.org/data/2.5/weather?appid=f3f8549d4a030ca7b73cbfc8d924fc9c&q=krasnyy chikoy&units=imperial\n",
      "Processing record for CITY: cayenne  Where query_url is: http://api.openweathermap.org/data/2.5/weather?appid=f3f8549d4a030ca7b73cbfc8d924fc9c&q=cayenne&units=imperial\n",
      "Processing record for CITY: porto walter  Where query_url is: http://api.openweathermap.org/data/2.5/weather?appid=f3f8549d4a030ca7b73cbfc8d924fc9c&q=porto walter&units=imperial\n"
     ]
    },
    {
     "name": "stdout",
     "output_type": "stream",
     "text": [
      "Processing record for CITY: biltine  Where query_url is: http://api.openweathermap.org/data/2.5/weather?appid=f3f8549d4a030ca7b73cbfc8d924fc9c&q=biltine&units=imperial\n",
      "Processing record for CITY: lavrentiya  Where query_url is: http://api.openweathermap.org/data/2.5/weather?appid=f3f8549d4a030ca7b73cbfc8d924fc9c&q=lavrentiya&units=imperial\n",
      "Processing record for CITY: lafia  Where query_url is: http://api.openweathermap.org/data/2.5/weather?appid=f3f8549d4a030ca7b73cbfc8d924fc9c&q=lafia&units=imperial\n",
      "Processing record for CITY: bondo  Where query_url is: http://api.openweathermap.org/data/2.5/weather?appid=f3f8549d4a030ca7b73cbfc8d924fc9c&q=bondo&units=imperial\n",
      "Processing record for CITY: palmer  Where query_url is: http://api.openweathermap.org/data/2.5/weather?appid=f3f8549d4a030ca7b73cbfc8d924fc9c&q=palmer&units=imperial\n",
      "Processing record for CITY: los llanos de aridane  Where query_url is: http://api.openweathermap.org/data/2.5/weather?appid=f3f8549d4a030ca7b73cbfc8d924fc9c&q=los llanos de aridane&units=imperial\n",
      "Processing record for CITY: kununurra  Where query_url is: http://api.openweathermap.org/data/2.5/weather?appid=f3f8549d4a030ca7b73cbfc8d924fc9c&q=kununurra&units=imperial\n",
      "Processing record for CITY: turayf  Where query_url is: http://api.openweathermap.org/data/2.5/weather?appid=f3f8549d4a030ca7b73cbfc8d924fc9c&q=turayf&units=imperial\n",
      "Processing record for CITY: thompson  Where query_url is: http://api.openweathermap.org/data/2.5/weather?appid=f3f8549d4a030ca7b73cbfc8d924fc9c&q=thompson&units=imperial\n",
      "Processing record for CITY: itarana  Where query_url is: http://api.openweathermap.org/data/2.5/weather?appid=f3f8549d4a030ca7b73cbfc8d924fc9c&q=itarana&units=imperial\n",
      "Processing record for CITY: sisimiut  Where query_url is: http://api.openweathermap.org/data/2.5/weather?appid=f3f8549d4a030ca7b73cbfc8d924fc9c&q=sisimiut&units=imperial\n",
      "Processing record for CITY: palmeira  Where query_url is: http://api.openweathermap.org/data/2.5/weather?appid=f3f8549d4a030ca7b73cbfc8d924fc9c&q=palmeira&units=imperial\n",
      "Processing record for CITY: general roca  Where query_url is: http://api.openweathermap.org/data/2.5/weather?appid=f3f8549d4a030ca7b73cbfc8d924fc9c&q=general roca&units=imperial\n",
      "Processing record for CITY: teberda  Where query_url is: http://api.openweathermap.org/data/2.5/weather?appid=f3f8549d4a030ca7b73cbfc8d924fc9c&q=teberda&units=imperial\n",
      "Processing record for CITY: pangody  Where query_url is: http://api.openweathermap.org/data/2.5/weather?appid=f3f8549d4a030ca7b73cbfc8d924fc9c&q=pangody&units=imperial\n",
      "Processing record for CITY: cidreira  Where query_url is: http://api.openweathermap.org/data/2.5/weather?appid=f3f8549d4a030ca7b73cbfc8d924fc9c&q=cidreira&units=imperial\n",
      "Processing record for CITY: ponta do sol  Where query_url is: http://api.openweathermap.org/data/2.5/weather?appid=f3f8549d4a030ca7b73cbfc8d924fc9c&q=ponta do sol&units=imperial\n",
      "Processing record for CITY: cedar city  Where query_url is: http://api.openweathermap.org/data/2.5/weather?appid=f3f8549d4a030ca7b73cbfc8d924fc9c&q=cedar city&units=imperial\n",
      "Processing record for CITY: taoudenni  Where query_url is: http://api.openweathermap.org/data/2.5/weather?appid=f3f8549d4a030ca7b73cbfc8d924fc9c&q=taoudenni&units=imperial\n",
      "Processing record for CITY: saskylakh  Where query_url is: http://api.openweathermap.org/data/2.5/weather?appid=f3f8549d4a030ca7b73cbfc8d924fc9c&q=saskylakh&units=imperial\n",
      "Processing record for CITY: anchorage  Where query_url is: http://api.openweathermap.org/data/2.5/weather?appid=f3f8549d4a030ca7b73cbfc8d924fc9c&q=anchorage&units=imperial\n",
      "Processing record for CITY: klaksvik  Where query_url is: http://api.openweathermap.org/data/2.5/weather?appid=f3f8549d4a030ca7b73cbfc8d924fc9c&q=klaksvik&units=imperial\n",
      "Processing record for CITY: zelenogorskiy  Where query_url is: http://api.openweathermap.org/data/2.5/weather?appid=f3f8549d4a030ca7b73cbfc8d924fc9c&q=zelenogorskiy&units=imperial\n",
      "Processing record for CITY: gornji vakuf  Where query_url is: http://api.openweathermap.org/data/2.5/weather?appid=f3f8549d4a030ca7b73cbfc8d924fc9c&q=gornji vakuf&units=imperial\n",
      "Processing record for CITY: port hedland  Where query_url is: http://api.openweathermap.org/data/2.5/weather?appid=f3f8549d4a030ca7b73cbfc8d924fc9c&q=port hedland&units=imperial\n",
      "Processing record for CITY: tazmalt  Where query_url is: http://api.openweathermap.org/data/2.5/weather?appid=f3f8549d4a030ca7b73cbfc8d924fc9c&q=tazmalt&units=imperial\n",
      "Processing record for CITY: foam lake  Where query_url is: http://api.openweathermap.org/data/2.5/weather?appid=f3f8549d4a030ca7b73cbfc8d924fc9c&q=foam lake&units=imperial\n",
      "Processing record for CITY: askiz  Where query_url is: http://api.openweathermap.org/data/2.5/weather?appid=f3f8549d4a030ca7b73cbfc8d924fc9c&q=askiz&units=imperial\n",
      "Processing record for CITY: tambacounda  Where query_url is: http://api.openweathermap.org/data/2.5/weather?appid=f3f8549d4a030ca7b73cbfc8d924fc9c&q=tambacounda&units=imperial\n",
      "Processing record for CITY: kananga  Where query_url is: http://api.openweathermap.org/data/2.5/weather?appid=f3f8549d4a030ca7b73cbfc8d924fc9c&q=kananga&units=imperial\n",
      "Processing record for CITY: labuhan  Where query_url is: http://api.openweathermap.org/data/2.5/weather?appid=f3f8549d4a030ca7b73cbfc8d924fc9c&q=labuhan&units=imperial\n",
      "Processing record for CITY: qandala  Where query_url is: http://api.openweathermap.org/data/2.5/weather?appid=f3f8549d4a030ca7b73cbfc8d924fc9c&q=qandala&units=imperial\n",
      "Processing record for CITY: kudahuvadhoo  Where query_url is: http://api.openweathermap.org/data/2.5/weather?appid=f3f8549d4a030ca7b73cbfc8d924fc9c&q=kudahuvadhoo&units=imperial\n",
      "Processing record for CITY: talnakh  Where query_url is: http://api.openweathermap.org/data/2.5/weather?appid=f3f8549d4a030ca7b73cbfc8d924fc9c&q=talnakh&units=imperial\n",
      "Processing record for CITY: payo  Where query_url is: http://api.openweathermap.org/data/2.5/weather?appid=f3f8549d4a030ca7b73cbfc8d924fc9c&q=payo&units=imperial\n",
      "Processing record for CITY: progreso  Where query_url is: http://api.openweathermap.org/data/2.5/weather?appid=f3f8549d4a030ca7b73cbfc8d924fc9c&q=progreso&units=imperial\n",
      "Processing record for CITY: lentekhi  Where query_url is: http://api.openweathermap.org/data/2.5/weather?appid=f3f8549d4a030ca7b73cbfc8d924fc9c&q=lentekhi&units=imperial\n",
      "Processing record for CITY: palembang  Where query_url is: http://api.openweathermap.org/data/2.5/weather?appid=f3f8549d4a030ca7b73cbfc8d924fc9c&q=palembang&units=imperial\n",
      "Processing record for CITY: jalu  Where query_url is: http://api.openweathermap.org/data/2.5/weather?appid=f3f8549d4a030ca7b73cbfc8d924fc9c&q=jalu&units=imperial\n",
      "Processing record for CITY: broome  Where query_url is: http://api.openweathermap.org/data/2.5/weather?appid=f3f8549d4a030ca7b73cbfc8d924fc9c&q=broome&units=imperial\n",
      "Processing record for CITY: torbay  Where query_url is: http://api.openweathermap.org/data/2.5/weather?appid=f3f8549d4a030ca7b73cbfc8d924fc9c&q=torbay&units=imperial\n",
      "Processing record for CITY: saint-paul  Where query_url is: http://api.openweathermap.org/data/2.5/weather?appid=f3f8549d4a030ca7b73cbfc8d924fc9c&q=saint-paul&units=imperial\n",
      "Processing record for CITY: thai nguyen  Where query_url is: http://api.openweathermap.org/data/2.5/weather?appid=f3f8549d4a030ca7b73cbfc8d924fc9c&q=thai nguyen&units=imperial\n",
      "Processing record for CITY: barrhead  Where query_url is: http://api.openweathermap.org/data/2.5/weather?appid=f3f8549d4a030ca7b73cbfc8d924fc9c&q=barrhead&units=imperial\n",
      "Processing record for CITY: manoel urbano  Where query_url is: http://api.openweathermap.org/data/2.5/weather?appid=f3f8549d4a030ca7b73cbfc8d924fc9c&q=manoel urbano&units=imperial\n",
      "Processing record for CITY: xiuyan  Where query_url is: http://api.openweathermap.org/data/2.5/weather?appid=f3f8549d4a030ca7b73cbfc8d924fc9c&q=xiuyan&units=imperial\n",
      "Processing record for CITY: samarai  Where query_url is: http://api.openweathermap.org/data/2.5/weather?appid=f3f8549d4a030ca7b73cbfc8d924fc9c&q=samarai&units=imperial\n",
      "Processing record for CITY: kavieng  Where query_url is: http://api.openweathermap.org/data/2.5/weather?appid=f3f8549d4a030ca7b73cbfc8d924fc9c&q=kavieng&units=imperial\n",
      "Processing record for CITY: muros  Where query_url is: http://api.openweathermap.org/data/2.5/weather?appid=f3f8549d4a030ca7b73cbfc8d924fc9c&q=muros&units=imperial\n"
     ]
    },
    {
     "name": "stdout",
     "output_type": "stream",
     "text": [
      "Processing record for CITY: praia  Where query_url is: http://api.openweathermap.org/data/2.5/weather?appid=f3f8549d4a030ca7b73cbfc8d924fc9c&q=praia&units=imperial\n",
      "Processing record for CITY: lasa  Where query_url is: http://api.openweathermap.org/data/2.5/weather?appid=f3f8549d4a030ca7b73cbfc8d924fc9c&q=lasa&units=imperial\n",
      "Processing record for CITY: qui nhon  Where query_url is: http://api.openweathermap.org/data/2.5/weather?appid=f3f8549d4a030ca7b73cbfc8d924fc9c&q=qui nhon&units=imperial\n",
      "Processing record for CITY: victoria  Where query_url is: http://api.openweathermap.org/data/2.5/weather?appid=f3f8549d4a030ca7b73cbfc8d924fc9c&q=victoria&units=imperial\n",
      "Processing record for CITY: klyuchi  Where query_url is: http://api.openweathermap.org/data/2.5/weather?appid=f3f8549d4a030ca7b73cbfc8d924fc9c&q=klyuchi&units=imperial\n",
      "Processing record for CITY: carutapera  Where query_url is: http://api.openweathermap.org/data/2.5/weather?appid=f3f8549d4a030ca7b73cbfc8d924fc9c&q=carutapera&units=imperial\n",
      "Processing record for CITY: taganak  Where query_url is: http://api.openweathermap.org/data/2.5/weather?appid=f3f8549d4a030ca7b73cbfc8d924fc9c&q=taganak&units=imperial\n",
      "Processing record for CITY: coihaique  Where query_url is: http://api.openweathermap.org/data/2.5/weather?appid=f3f8549d4a030ca7b73cbfc8d924fc9c&q=coihaique&units=imperial\n",
      "Processing record for CITY: gujar khan  Where query_url is: http://api.openweathermap.org/data/2.5/weather?appid=f3f8549d4a030ca7b73cbfc8d924fc9c&q=gujar khan&units=imperial\n",
      "Processing record for CITY: hornepayne  Where query_url is: http://api.openweathermap.org/data/2.5/weather?appid=f3f8549d4a030ca7b73cbfc8d924fc9c&q=hornepayne&units=imperial\n",
      "Processing record for CITY: saldanha  Where query_url is: http://api.openweathermap.org/data/2.5/weather?appid=f3f8549d4a030ca7b73cbfc8d924fc9c&q=saldanha&units=imperial\n",
      "Processing record for CITY: bonthe  Where query_url is: http://api.openweathermap.org/data/2.5/weather?appid=f3f8549d4a030ca7b73cbfc8d924fc9c&q=bonthe&units=imperial\n",
      "Processing record for CITY: koumac  Where query_url is: http://api.openweathermap.org/data/2.5/weather?appid=f3f8549d4a030ca7b73cbfc8d924fc9c&q=koumac&units=imperial\n",
      "Processing record for CITY: gambo  Where query_url is: http://api.openweathermap.org/data/2.5/weather?appid=f3f8549d4a030ca7b73cbfc8d924fc9c&q=gambo&units=imperial\n",
      "Processing record for CITY: vila velha  Where query_url is: http://api.openweathermap.org/data/2.5/weather?appid=f3f8549d4a030ca7b73cbfc8d924fc9c&q=vila velha&units=imperial\n",
      "Processing record for CITY: vestmannaeyjar  Where query_url is: http://api.openweathermap.org/data/2.5/weather?appid=f3f8549d4a030ca7b73cbfc8d924fc9c&q=vestmannaeyjar&units=imperial\n",
      "Processing record for CITY: longyearbyen  Where query_url is: http://api.openweathermap.org/data/2.5/weather?appid=f3f8549d4a030ca7b73cbfc8d924fc9c&q=longyearbyen&units=imperial\n",
      "Processing record for CITY: manzil salim  Where query_url is: http://api.openweathermap.org/data/2.5/weather?appid=f3f8549d4a030ca7b73cbfc8d924fc9c&q=manzil salim&units=imperial\n",
      "Processing record for CITY: perevoz  Where query_url is: http://api.openweathermap.org/data/2.5/weather?appid=f3f8549d4a030ca7b73cbfc8d924fc9c&q=perevoz&units=imperial\n",
      "Processing record for CITY: sabang  Where query_url is: http://api.openweathermap.org/data/2.5/weather?appid=f3f8549d4a030ca7b73cbfc8d924fc9c&q=sabang&units=imperial\n",
      "Processing record for CITY: antropovo  Where query_url is: http://api.openweathermap.org/data/2.5/weather?appid=f3f8549d4a030ca7b73cbfc8d924fc9c&q=antropovo&units=imperial\n",
      "Processing record for CITY: saint-francois  Where query_url is: http://api.openweathermap.org/data/2.5/weather?appid=f3f8549d4a030ca7b73cbfc8d924fc9c&q=saint-francois&units=imperial\n",
      "Processing record for CITY: makhinjauri  Where query_url is: http://api.openweathermap.org/data/2.5/weather?appid=f3f8549d4a030ca7b73cbfc8d924fc9c&q=makhinjauri&units=imperial\n",
      "Processing record for CITY: tateyama  Where query_url is: http://api.openweathermap.org/data/2.5/weather?appid=f3f8549d4a030ca7b73cbfc8d924fc9c&q=tateyama&units=imperial\n",
      "Processing record for CITY: maraa  Where query_url is: http://api.openweathermap.org/data/2.5/weather?appid=f3f8549d4a030ca7b73cbfc8d924fc9c&q=maraa&units=imperial\n",
      "Processing record for CITY: hemsedal  Where query_url is: http://api.openweathermap.org/data/2.5/weather?appid=f3f8549d4a030ca7b73cbfc8d924fc9c&q=hemsedal&units=imperial\n",
      "Processing record for CITY: kushmurun  Where query_url is: http://api.openweathermap.org/data/2.5/weather?appid=f3f8549d4a030ca7b73cbfc8d924fc9c&q=kushmurun&units=imperial\n",
      "Processing record for CITY: vardo  Where query_url is: http://api.openweathermap.org/data/2.5/weather?appid=f3f8549d4a030ca7b73cbfc8d924fc9c&q=vardo&units=imperial\n",
      "Processing record for CITY: savannah bight  Where query_url is: http://api.openweathermap.org/data/2.5/weather?appid=f3f8549d4a030ca7b73cbfc8d924fc9c&q=savannah bight&units=imperial\n",
      "Processing record for CITY: nanakuli  Where query_url is: http://api.openweathermap.org/data/2.5/weather?appid=f3f8549d4a030ca7b73cbfc8d924fc9c&q=nanakuli&units=imperial\n",
      "Processing record for CITY: kanye  Where query_url is: http://api.openweathermap.org/data/2.5/weather?appid=f3f8549d4a030ca7b73cbfc8d924fc9c&q=kanye&units=imperial\n",
      "Processing record for CITY: yantai  Where query_url is: http://api.openweathermap.org/data/2.5/weather?appid=f3f8549d4a030ca7b73cbfc8d924fc9c&q=yantai&units=imperial\n",
      "Processing record for CITY: erenhot  Where query_url is: http://api.openweathermap.org/data/2.5/weather?appid=f3f8549d4a030ca7b73cbfc8d924fc9c&q=erenhot&units=imperial\n",
      "Processing record for CITY: paamiut  Where query_url is: http://api.openweathermap.org/data/2.5/weather?appid=f3f8549d4a030ca7b73cbfc8d924fc9c&q=paamiut&units=imperial\n",
      "Processing record for CITY: poum  Where query_url is: http://api.openweathermap.org/data/2.5/weather?appid=f3f8549d4a030ca7b73cbfc8d924fc9c&q=poum&units=imperial\n",
      "Processing record for CITY: dunedin  Where query_url is: http://api.openweathermap.org/data/2.5/weather?appid=f3f8549d4a030ca7b73cbfc8d924fc9c&q=dunedin&units=imperial\n",
      "Processing record for CITY: moscow  Where query_url is: http://api.openweathermap.org/data/2.5/weather?appid=f3f8549d4a030ca7b73cbfc8d924fc9c&q=moscow&units=imperial\n",
      "Processing record for CITY: kaeo  Where query_url is: http://api.openweathermap.org/data/2.5/weather?appid=f3f8549d4a030ca7b73cbfc8d924fc9c&q=kaeo&units=imperial\n",
      "Processing record for CITY: derzhavinsk  Where query_url is: http://api.openweathermap.org/data/2.5/weather?appid=f3f8549d4a030ca7b73cbfc8d924fc9c&q=derzhavinsk&units=imperial\n",
      "Processing record for CITY: xining  Where query_url is: http://api.openweathermap.org/data/2.5/weather?appid=f3f8549d4a030ca7b73cbfc8d924fc9c&q=xining&units=imperial\n",
      "Processing record for CITY: williams lake  Where query_url is: http://api.openweathermap.org/data/2.5/weather?appid=f3f8549d4a030ca7b73cbfc8d924fc9c&q=williams lake&units=imperial\n",
      "Processing record for CITY: namatanai  Where query_url is: http://api.openweathermap.org/data/2.5/weather?appid=f3f8549d4a030ca7b73cbfc8d924fc9c&q=namatanai&units=imperial\n",
      "Processing record for CITY: lompoc  Where query_url is: http://api.openweathermap.org/data/2.5/weather?appid=f3f8549d4a030ca7b73cbfc8d924fc9c&q=lompoc&units=imperial\n",
      "Processing record for CITY: danville  Where query_url is: http://api.openweathermap.org/data/2.5/weather?appid=f3f8549d4a030ca7b73cbfc8d924fc9c&q=danville&units=imperial\n",
      "Processing record for CITY: caravelas  Where query_url is: http://api.openweathermap.org/data/2.5/weather?appid=f3f8549d4a030ca7b73cbfc8d924fc9c&q=caravelas&units=imperial\n",
      "Processing record for CITY: riyadh  Where query_url is: http://api.openweathermap.org/data/2.5/weather?appid=f3f8549d4a030ca7b73cbfc8d924fc9c&q=riyadh&units=imperial\n",
      "Processing record for CITY: geraldton  Where query_url is: http://api.openweathermap.org/data/2.5/weather?appid=f3f8549d4a030ca7b73cbfc8d924fc9c&q=geraldton&units=imperial\n",
      "Processing record for CITY: tirumullaivasal  Where query_url is: http://api.openweathermap.org/data/2.5/weather?appid=f3f8549d4a030ca7b73cbfc8d924fc9c&q=tirumullaivasal&units=imperial\n",
      "Processing record for CITY: manono  Where query_url is: http://api.openweathermap.org/data/2.5/weather?appid=f3f8549d4a030ca7b73cbfc8d924fc9c&q=manono&units=imperial\n"
     ]
    },
    {
     "name": "stdout",
     "output_type": "stream",
     "text": [
      "Processing record for CITY: husavik  Where query_url is: http://api.openweathermap.org/data/2.5/weather?appid=f3f8549d4a030ca7b73cbfc8d924fc9c&q=husavik&units=imperial\n",
      "Processing record for CITY: batagay-alyta  Where query_url is: http://api.openweathermap.org/data/2.5/weather?appid=f3f8549d4a030ca7b73cbfc8d924fc9c&q=batagay-alyta&units=imperial\n",
      "Processing record for CITY: tuatapere  Where query_url is: http://api.openweathermap.org/data/2.5/weather?appid=f3f8549d4a030ca7b73cbfc8d924fc9c&q=tuatapere&units=imperial\n",
      "Processing record for CITY: sioux lookout  Where query_url is: http://api.openweathermap.org/data/2.5/weather?appid=f3f8549d4a030ca7b73cbfc8d924fc9c&q=sioux lookout&units=imperial\n",
      "Processing record for CITY: radeberg  Where query_url is: http://api.openweathermap.org/data/2.5/weather?appid=f3f8549d4a030ca7b73cbfc8d924fc9c&q=radeberg&units=imperial\n",
      "Processing record for CITY: broken hill  Where query_url is: http://api.openweathermap.org/data/2.5/weather?appid=f3f8549d4a030ca7b73cbfc8d924fc9c&q=broken hill&units=imperial\n",
      "Processing record for CITY: yeppoon  Where query_url is: http://api.openweathermap.org/data/2.5/weather?appid=f3f8549d4a030ca7b73cbfc8d924fc9c&q=yeppoon&units=imperial\n",
      "Processing record for CITY: lobito  Where query_url is: http://api.openweathermap.org/data/2.5/weather?appid=f3f8549d4a030ca7b73cbfc8d924fc9c&q=lobito&units=imperial\n",
      "Processing record for CITY: susanville  Where query_url is: http://api.openweathermap.org/data/2.5/weather?appid=f3f8549d4a030ca7b73cbfc8d924fc9c&q=susanville&units=imperial\n",
      "Processing record for CITY: aswan  Where query_url is: http://api.openweathermap.org/data/2.5/weather?appid=f3f8549d4a030ca7b73cbfc8d924fc9c&q=aswan&units=imperial\n",
      "Processing record for CITY: hayden  Where query_url is: http://api.openweathermap.org/data/2.5/weather?appid=f3f8549d4a030ca7b73cbfc8d924fc9c&q=hayden&units=imperial\n",
      "Processing record for CITY: veracruz  Where query_url is: http://api.openweathermap.org/data/2.5/weather?appid=f3f8549d4a030ca7b73cbfc8d924fc9c&q=veracruz&units=imperial\n",
      "Processing record for CITY: vila franca do campo  Where query_url is: http://api.openweathermap.org/data/2.5/weather?appid=f3f8549d4a030ca7b73cbfc8d924fc9c&q=vila franca do campo&units=imperial\n",
      "Processing record for CITY: petropavl  Where query_url is: http://api.openweathermap.org/data/2.5/weather?appid=f3f8549d4a030ca7b73cbfc8d924fc9c&q=petropavl&units=imperial\n",
      "Processing record for CITY: dikson  Where query_url is: http://api.openweathermap.org/data/2.5/weather?appid=f3f8549d4a030ca7b73cbfc8d924fc9c&q=dikson&units=imperial\n",
      "Processing record for CITY: mitu  Where query_url is: http://api.openweathermap.org/data/2.5/weather?appid=f3f8549d4a030ca7b73cbfc8d924fc9c&q=mitu&units=imperial\n",
      "Processing record for CITY: okitipupa  Where query_url is: http://api.openweathermap.org/data/2.5/weather?appid=f3f8549d4a030ca7b73cbfc8d924fc9c&q=okitipupa&units=imperial\n",
      "Processing record for CITY: aykhal  Where query_url is: http://api.openweathermap.org/data/2.5/weather?appid=f3f8549d4a030ca7b73cbfc8d924fc9c&q=aykhal&units=imperial\n",
      "Processing record for CITY: roald  Where query_url is: http://api.openweathermap.org/data/2.5/weather?appid=f3f8549d4a030ca7b73cbfc8d924fc9c&q=roald&units=imperial\n",
      "Processing record for CITY: hay river  Where query_url is: http://api.openweathermap.org/data/2.5/weather?appid=f3f8549d4a030ca7b73cbfc8d924fc9c&q=hay river&units=imperial\n",
      "Processing record for CITY: olafsvik  Where query_url is: http://api.openweathermap.org/data/2.5/weather?appid=f3f8549d4a030ca7b73cbfc8d924fc9c&q=olafsvik&units=imperial\n",
      "Processing record for CITY: kailua  Where query_url is: http://api.openweathermap.org/data/2.5/weather?appid=f3f8549d4a030ca7b73cbfc8d924fc9c&q=kailua&units=imperial\n",
      "Processing record for CITY: halifax  Where query_url is: http://api.openweathermap.org/data/2.5/weather?appid=f3f8549d4a030ca7b73cbfc8d924fc9c&q=halifax&units=imperial\n",
      "Processing record for CITY: satuk  Where query_url is: http://api.openweathermap.org/data/2.5/weather?appid=f3f8549d4a030ca7b73cbfc8d924fc9c&q=satuk&units=imperial\n",
      "Processing record for CITY: flin flon  Where query_url is: http://api.openweathermap.org/data/2.5/weather?appid=f3f8549d4a030ca7b73cbfc8d924fc9c&q=flin flon&units=imperial\n",
      "Processing record for CITY: breves  Where query_url is: http://api.openweathermap.org/data/2.5/weather?appid=f3f8549d4a030ca7b73cbfc8d924fc9c&q=breves&units=imperial\n",
      "Processing record for CITY: tonj  Where query_url is: http://api.openweathermap.org/data/2.5/weather?appid=f3f8549d4a030ca7b73cbfc8d924fc9c&q=tonj&units=imperial\n",
      "Processing record for CITY: agrafa  Where query_url is: http://api.openweathermap.org/data/2.5/weather?appid=f3f8549d4a030ca7b73cbfc8d924fc9c&q=agrafa&units=imperial\n",
      "Processing record for CITY: nizhniy mamon  Where query_url is: http://api.openweathermap.org/data/2.5/weather?appid=f3f8549d4a030ca7b73cbfc8d924fc9c&q=nizhniy mamon&units=imperial\n",
      "Processing record for CITY: wenling  Where query_url is: http://api.openweathermap.org/data/2.5/weather?appid=f3f8549d4a030ca7b73cbfc8d924fc9c&q=wenling&units=imperial\n",
      "Processing record for CITY: margate  Where query_url is: http://api.openweathermap.org/data/2.5/weather?appid=f3f8549d4a030ca7b73cbfc8d924fc9c&q=margate&units=imperial\n",
      "Processing record for CITY: port keats  Where query_url is: http://api.openweathermap.org/data/2.5/weather?appid=f3f8549d4a030ca7b73cbfc8d924fc9c&q=port keats&units=imperial\n",
      "Processing record for CITY: avera  Where query_url is: http://api.openweathermap.org/data/2.5/weather?appid=f3f8549d4a030ca7b73cbfc8d924fc9c&q=avera&units=imperial\n",
      "Processing record for CITY: kalmunai  Where query_url is: http://api.openweathermap.org/data/2.5/weather?appid=f3f8549d4a030ca7b73cbfc8d924fc9c&q=kalmunai&units=imperial\n",
      "Processing record for CITY: birao  Where query_url is: http://api.openweathermap.org/data/2.5/weather?appid=f3f8549d4a030ca7b73cbfc8d924fc9c&q=birao&units=imperial\n",
      "Processing record for CITY: mayor pablo lagerenza  Where query_url is: http://api.openweathermap.org/data/2.5/weather?appid=f3f8549d4a030ca7b73cbfc8d924fc9c&q=mayor pablo lagerenza&units=imperial\n",
      "Processing record for CITY: kastamonu  Where query_url is: http://api.openweathermap.org/data/2.5/weather?appid=f3f8549d4a030ca7b73cbfc8d924fc9c&q=kastamonu&units=imperial\n",
      "Processing record for CITY: necochea  Where query_url is: http://api.openweathermap.org/data/2.5/weather?appid=f3f8549d4a030ca7b73cbfc8d924fc9c&q=necochea&units=imperial\n",
      "Processing record for CITY: tumalaytay  Where query_url is: http://api.openweathermap.org/data/2.5/weather?appid=f3f8549d4a030ca7b73cbfc8d924fc9c&q=tumalaytay&units=imperial\n",
      "Processing record for CITY: octeville  Where query_url is: http://api.openweathermap.org/data/2.5/weather?appid=f3f8549d4a030ca7b73cbfc8d924fc9c&q=octeville&units=imperial\n",
      "Processing record for CITY: salalah  Where query_url is: http://api.openweathermap.org/data/2.5/weather?appid=f3f8549d4a030ca7b73cbfc8d924fc9c&q=salalah&units=imperial\n",
      "Processing record for CITY: tasiilaq  Where query_url is: http://api.openweathermap.org/data/2.5/weather?appid=f3f8549d4a030ca7b73cbfc8d924fc9c&q=tasiilaq&units=imperial\n",
      "Processing record for CITY: baixa grande  Where query_url is: http://api.openweathermap.org/data/2.5/weather?appid=f3f8549d4a030ca7b73cbfc8d924fc9c&q=baixa grande&units=imperial\n",
      "Processing record for CITY: wairoa  Where query_url is: http://api.openweathermap.org/data/2.5/weather?appid=f3f8549d4a030ca7b73cbfc8d924fc9c&q=wairoa&units=imperial\n",
      "Processing record for CITY: ahipara  Where query_url is: http://api.openweathermap.org/data/2.5/weather?appid=f3f8549d4a030ca7b73cbfc8d924fc9c&q=ahipara&units=imperial\n",
      "Processing record for CITY: ostersund  Where query_url is: http://api.openweathermap.org/data/2.5/weather?appid=f3f8549d4a030ca7b73cbfc8d924fc9c&q=ostersund&units=imperial\n",
      "Processing record for CITY: port augusta  Where query_url is: http://api.openweathermap.org/data/2.5/weather?appid=f3f8549d4a030ca7b73cbfc8d924fc9c&q=port augusta&units=imperial\n",
      "Processing record for CITY: whitehorse  Where query_url is: http://api.openweathermap.org/data/2.5/weather?appid=f3f8549d4a030ca7b73cbfc8d924fc9c&q=whitehorse&units=imperial\n",
      "Processing record for CITY: ust-nera  Where query_url is: http://api.openweathermap.org/data/2.5/weather?appid=f3f8549d4a030ca7b73cbfc8d924fc9c&q=ust-nera&units=imperial\n"
     ]
    },
    {
     "name": "stdout",
     "output_type": "stream",
     "text": [
      "Processing record for CITY: rio gallegos  Where query_url is: http://api.openweathermap.org/data/2.5/weather?appid=f3f8549d4a030ca7b73cbfc8d924fc9c&q=rio gallegos&units=imperial\n",
      "Processing record for CITY: shenjiamen  Where query_url is: http://api.openweathermap.org/data/2.5/weather?appid=f3f8549d4a030ca7b73cbfc8d924fc9c&q=shenjiamen&units=imperial\n",
      "Processing record for CITY: onokhoy  Where query_url is: http://api.openweathermap.org/data/2.5/weather?appid=f3f8549d4a030ca7b73cbfc8d924fc9c&q=onokhoy&units=imperial\n",
      "Processing record for CITY: jizan  Where query_url is: http://api.openweathermap.org/data/2.5/weather?appid=f3f8549d4a030ca7b73cbfc8d924fc9c&q=jizan&units=imperial\n",
      "Processing record for CITY: srednekolymsk  Where query_url is: http://api.openweathermap.org/data/2.5/weather?appid=f3f8549d4a030ca7b73cbfc8d924fc9c&q=srednekolymsk&units=imperial\n",
      "Processing record for CITY: port hardy  Where query_url is: http://api.openweathermap.org/data/2.5/weather?appid=f3f8549d4a030ca7b73cbfc8d924fc9c&q=port hardy&units=imperial\n",
      "Processing record for CITY: shihezi  Where query_url is: http://api.openweathermap.org/data/2.5/weather?appid=f3f8549d4a030ca7b73cbfc8d924fc9c&q=shihezi&units=imperial\n",
      "Processing record for CITY: faya  Where query_url is: http://api.openweathermap.org/data/2.5/weather?appid=f3f8549d4a030ca7b73cbfc8d924fc9c&q=faya&units=imperial\n",
      "Processing record for CITY: khash  Where query_url is: http://api.openweathermap.org/data/2.5/weather?appid=f3f8549d4a030ca7b73cbfc8d924fc9c&q=khash&units=imperial\n",
      "Processing record for CITY: acapulco  Where query_url is: http://api.openweathermap.org/data/2.5/weather?appid=f3f8549d4a030ca7b73cbfc8d924fc9c&q=acapulco&units=imperial\n",
      "Processing record for CITY: mizdah  Where query_url is: http://api.openweathermap.org/data/2.5/weather?appid=f3f8549d4a030ca7b73cbfc8d924fc9c&q=mizdah&units=imperial\n",
      "Processing record for CITY: khor  Where query_url is: http://api.openweathermap.org/data/2.5/weather?appid=f3f8549d4a030ca7b73cbfc8d924fc9c&q=khor&units=imperial\n",
      "Processing record for CITY: ola  Where query_url is: http://api.openweathermap.org/data/2.5/weather?appid=f3f8549d4a030ca7b73cbfc8d924fc9c&q=ola&units=imperial\n",
      "Processing record for CITY: loandjili  Where query_url is: http://api.openweathermap.org/data/2.5/weather?appid=f3f8549d4a030ca7b73cbfc8d924fc9c&q=loandjili&units=imperial\n",
      "Processing record for CITY: angoram  Where query_url is: http://api.openweathermap.org/data/2.5/weather?appid=f3f8549d4a030ca7b73cbfc8d924fc9c&q=angoram&units=imperial\n",
      "Processing record for CITY: inhambane  Where query_url is: http://api.openweathermap.org/data/2.5/weather?appid=f3f8549d4a030ca7b73cbfc8d924fc9c&q=inhambane&units=imperial\n",
      "Processing record for CITY: acarau  Where query_url is: http://api.openweathermap.org/data/2.5/weather?appid=f3f8549d4a030ca7b73cbfc8d924fc9c&q=acarau&units=imperial\n",
      "Processing record for CITY: sao paulo de olivenca  Where query_url is: http://api.openweathermap.org/data/2.5/weather?appid=f3f8549d4a030ca7b73cbfc8d924fc9c&q=sao paulo de olivenca&units=imperial\n",
      "Processing record for CITY: cosala  Where query_url is: http://api.openweathermap.org/data/2.5/weather?appid=f3f8549d4a030ca7b73cbfc8d924fc9c&q=cosala&units=imperial\n",
      "Processing record for CITY: alta floresta  Where query_url is: http://api.openweathermap.org/data/2.5/weather?appid=f3f8549d4a030ca7b73cbfc8d924fc9c&q=alta floresta&units=imperial\n",
      "Processing record for CITY: tahe  Where query_url is: http://api.openweathermap.org/data/2.5/weather?appid=f3f8549d4a030ca7b73cbfc8d924fc9c&q=tahe&units=imperial\n",
      "Processing record for CITY: bongandanga  Where query_url is: http://api.openweathermap.org/data/2.5/weather?appid=f3f8549d4a030ca7b73cbfc8d924fc9c&q=bongandanga&units=imperial\n",
      "Processing record for CITY: fort-shevchenko  Where query_url is: http://api.openweathermap.org/data/2.5/weather?appid=f3f8549d4a030ca7b73cbfc8d924fc9c&q=fort-shevchenko&units=imperial\n",
      "Processing record for CITY: melioratorov  Where query_url is: http://api.openweathermap.org/data/2.5/weather?appid=f3f8549d4a030ca7b73cbfc8d924fc9c&q=melioratorov&units=imperial\n",
      "Processing record for CITY: clyde river  Where query_url is: http://api.openweathermap.org/data/2.5/weather?appid=f3f8549d4a030ca7b73cbfc8d924fc9c&q=clyde river&units=imperial\n",
      "Processing record for CITY: jinhua  Where query_url is: http://api.openweathermap.org/data/2.5/weather?appid=f3f8549d4a030ca7b73cbfc8d924fc9c&q=jinhua&units=imperial\n",
      "Processing record for CITY: bathsheba  Where query_url is: http://api.openweathermap.org/data/2.5/weather?appid=f3f8549d4a030ca7b73cbfc8d924fc9c&q=bathsheba&units=imperial\n",
      "Processing record for CITY: lorengau  Where query_url is: http://api.openweathermap.org/data/2.5/weather?appid=f3f8549d4a030ca7b73cbfc8d924fc9c&q=lorengau&units=imperial\n",
      "Processing record for CITY: pisco  Where query_url is: http://api.openweathermap.org/data/2.5/weather?appid=f3f8549d4a030ca7b73cbfc8d924fc9c&q=pisco&units=imperial\n",
      "Processing record for CITY: muzhi  Where query_url is: http://api.openweathermap.org/data/2.5/weather?appid=f3f8549d4a030ca7b73cbfc8d924fc9c&q=muzhi&units=imperial\n",
      "Processing record for CITY: orbetello  Where query_url is: http://api.openweathermap.org/data/2.5/weather?appid=f3f8549d4a030ca7b73cbfc8d924fc9c&q=orbetello&units=imperial\n",
      "Processing record for CITY: tabou  Where query_url is: http://api.openweathermap.org/data/2.5/weather?appid=f3f8549d4a030ca7b73cbfc8d924fc9c&q=tabou&units=imperial\n",
      "Processing record for CITY: helong  Where query_url is: http://api.openweathermap.org/data/2.5/weather?appid=f3f8549d4a030ca7b73cbfc8d924fc9c&q=helong&units=imperial\n",
      "Processing record for CITY: nome  Where query_url is: http://api.openweathermap.org/data/2.5/weather?appid=f3f8549d4a030ca7b73cbfc8d924fc9c&q=nome&units=imperial\n",
      "Processing record for CITY: coquimbo  Where query_url is: http://api.openweathermap.org/data/2.5/weather?appid=f3f8549d4a030ca7b73cbfc8d924fc9c&q=coquimbo&units=imperial\n",
      "Processing record for CITY: yar-sale  Where query_url is: http://api.openweathermap.org/data/2.5/weather?appid=f3f8549d4a030ca7b73cbfc8d924fc9c&q=yar-sale&units=imperial\n",
      "Processing record for CITY: kearney  Where query_url is: http://api.openweathermap.org/data/2.5/weather?appid=f3f8549d4a030ca7b73cbfc8d924fc9c&q=kearney&units=imperial\n",
      "Processing record for CITY: west bay  Where query_url is: http://api.openweathermap.org/data/2.5/weather?appid=f3f8549d4a030ca7b73cbfc8d924fc9c&q=west bay&units=imperial\n",
      "Processing record for CITY: santander  Where query_url is: http://api.openweathermap.org/data/2.5/weather?appid=f3f8549d4a030ca7b73cbfc8d924fc9c&q=santander&units=imperial\n",
      "Processing record for CITY: mchinji  Where query_url is: http://api.openweathermap.org/data/2.5/weather?appid=f3f8549d4a030ca7b73cbfc8d924fc9c&q=mchinji&units=imperial\n",
      "Processing record for CITY: shelburne  Where query_url is: http://api.openweathermap.org/data/2.5/weather?appid=f3f8549d4a030ca7b73cbfc8d924fc9c&q=shelburne&units=imperial\n",
      "Processing record for CITY: lagoa  Where query_url is: http://api.openweathermap.org/data/2.5/weather?appid=f3f8549d4a030ca7b73cbfc8d924fc9c&q=lagoa&units=imperial\n",
      "Processing record for CITY: xinzhou  Where query_url is: http://api.openweathermap.org/data/2.5/weather?appid=f3f8549d4a030ca7b73cbfc8d924fc9c&q=xinzhou&units=imperial\n",
      "Processing record for CITY: quartucciu  Where query_url is: http://api.openweathermap.org/data/2.5/weather?appid=f3f8549d4a030ca7b73cbfc8d924fc9c&q=quartucciu&units=imperial\n",
      "Processing record for CITY: benin  Where query_url is: http://api.openweathermap.org/data/2.5/weather?appid=f3f8549d4a030ca7b73cbfc8d924fc9c&q=benin&units=imperial\n",
      "Processing record for CITY: namibe  Where query_url is: http://api.openweathermap.org/data/2.5/weather?appid=f3f8549d4a030ca7b73cbfc8d924fc9c&q=namibe&units=imperial\n",
      "Processing record for CITY: bindi  Where query_url is: http://api.openweathermap.org/data/2.5/weather?appid=f3f8549d4a030ca7b73cbfc8d924fc9c&q=bindi&units=imperial\n",
      "Processing record for CITY: sitka  Where query_url is: http://api.openweathermap.org/data/2.5/weather?appid=f3f8549d4a030ca7b73cbfc8d924fc9c&q=sitka&units=imperial\n",
      "Processing record for CITY: antofagasta  Where query_url is: http://api.openweathermap.org/data/2.5/weather?appid=f3f8549d4a030ca7b73cbfc8d924fc9c&q=antofagasta&units=imperial\n",
      "Processing record for CITY: ancud  Where query_url is: http://api.openweathermap.org/data/2.5/weather?appid=f3f8549d4a030ca7b73cbfc8d924fc9c&q=ancud&units=imperial\n"
     ]
    },
    {
     "name": "stdout",
     "output_type": "stream",
     "text": [
      "Processing record for CITY: hun  Where query_url is: http://api.openweathermap.org/data/2.5/weather?appid=f3f8549d4a030ca7b73cbfc8d924fc9c&q=hun&units=imperial\n",
      "Processing record for CITY: ulladulla  Where query_url is: http://api.openweathermap.org/data/2.5/weather?appid=f3f8549d4a030ca7b73cbfc8d924fc9c&q=ulladulla&units=imperial\n",
      "Processing record for CITY: cairns  Where query_url is: http://api.openweathermap.org/data/2.5/weather?appid=f3f8549d4a030ca7b73cbfc8d924fc9c&q=cairns&units=imperial\n",
      "Processing record for CITY: asau  Where query_url is: http://api.openweathermap.org/data/2.5/weather?appid=f3f8549d4a030ca7b73cbfc8d924fc9c&q=asau&units=imperial\n",
      "Processing record for CITY: gillette  Where query_url is: http://api.openweathermap.org/data/2.5/weather?appid=f3f8549d4a030ca7b73cbfc8d924fc9c&q=gillette&units=imperial\n",
      "Processing record for CITY: kasempa  Where query_url is: http://api.openweathermap.org/data/2.5/weather?appid=f3f8549d4a030ca7b73cbfc8d924fc9c&q=kasempa&units=imperial\n",
      "Processing record for CITY: olinda  Where query_url is: http://api.openweathermap.org/data/2.5/weather?appid=f3f8549d4a030ca7b73cbfc8d924fc9c&q=olinda&units=imperial\n",
      "Processing record for CITY: bayir  Where query_url is: http://api.openweathermap.org/data/2.5/weather?appid=f3f8549d4a030ca7b73cbfc8d924fc9c&q=bayir&units=imperial\n",
      "Processing record for CITY: buala  Where query_url is: http://api.openweathermap.org/data/2.5/weather?appid=f3f8549d4a030ca7b73cbfc8d924fc9c&q=buala&units=imperial\n",
      "Processing record for CITY: belmonte  Where query_url is: http://api.openweathermap.org/data/2.5/weather?appid=f3f8549d4a030ca7b73cbfc8d924fc9c&q=belmonte&units=imperial\n",
      "Processing record for CITY: zafra  Where query_url is: http://api.openweathermap.org/data/2.5/weather?appid=f3f8549d4a030ca7b73cbfc8d924fc9c&q=zafra&units=imperial\n",
      "Processing record for CITY: havre-saint-pierre  Where query_url is: http://api.openweathermap.org/data/2.5/weather?appid=f3f8549d4a030ca7b73cbfc8d924fc9c&q=havre-saint-pierre&units=imperial\n",
      "Processing record for CITY: urumqi  Where query_url is: http://api.openweathermap.org/data/2.5/weather?appid=f3f8549d4a030ca7b73cbfc8d924fc9c&q=urumqi&units=imperial\n",
      "Processing record for CITY: eirunepe  Where query_url is: http://api.openweathermap.org/data/2.5/weather?appid=f3f8549d4a030ca7b73cbfc8d924fc9c&q=eirunepe&units=imperial\n",
      "Processing record for CITY: aqtobe  Where query_url is: http://api.openweathermap.org/data/2.5/weather?appid=f3f8549d4a030ca7b73cbfc8d924fc9c&q=aqtobe&units=imperial\n",
      "Processing record for CITY: oiso  Where query_url is: http://api.openweathermap.org/data/2.5/weather?appid=f3f8549d4a030ca7b73cbfc8d924fc9c&q=oiso&units=imperial\n",
      "Processing record for CITY: nevelsk  Where query_url is: http://api.openweathermap.org/data/2.5/weather?appid=f3f8549d4a030ca7b73cbfc8d924fc9c&q=nevelsk&units=imperial\n",
      "Processing record for CITY: naze  Where query_url is: http://api.openweathermap.org/data/2.5/weather?appid=f3f8549d4a030ca7b73cbfc8d924fc9c&q=naze&units=imperial\n",
      "Processing record for CITY: benguela  Where query_url is: http://api.openweathermap.org/data/2.5/weather?appid=f3f8549d4a030ca7b73cbfc8d924fc9c&q=benguela&units=imperial\n",
      "Processing record for CITY: komsomolskiy  Where query_url is: http://api.openweathermap.org/data/2.5/weather?appid=f3f8549d4a030ca7b73cbfc8d924fc9c&q=komsomolskiy&units=imperial\n",
      "Processing record for CITY: goundam  Where query_url is: http://api.openweathermap.org/data/2.5/weather?appid=f3f8549d4a030ca7b73cbfc8d924fc9c&q=goundam&units=imperial\n",
      "Processing record for CITY: kalemie  Where query_url is: http://api.openweathermap.org/data/2.5/weather?appid=f3f8549d4a030ca7b73cbfc8d924fc9c&q=kalemie&units=imperial\n",
      "Processing record for CITY: weyburn  Where query_url is: http://api.openweathermap.org/data/2.5/weather?appid=f3f8549d4a030ca7b73cbfc8d924fc9c&q=weyburn&units=imperial\n",
      "Processing record for CITY: itaueira  Where query_url is: http://api.openweathermap.org/data/2.5/weather?appid=f3f8549d4a030ca7b73cbfc8d924fc9c&q=itaueira&units=imperial\n",
      "Processing record for CITY: port arthur  Where query_url is: http://api.openweathermap.org/data/2.5/weather?appid=f3f8549d4a030ca7b73cbfc8d924fc9c&q=port arthur&units=imperial\n",
      "Processing record for CITY: mamallapuram  Where query_url is: http://api.openweathermap.org/data/2.5/weather?appid=f3f8549d4a030ca7b73cbfc8d924fc9c&q=mamallapuram&units=imperial\n",
      "Processing record for CITY: san pedro  Where query_url is: http://api.openweathermap.org/data/2.5/weather?appid=f3f8549d4a030ca7b73cbfc8d924fc9c&q=san pedro&units=imperial\n",
      "Processing record for CITY: mortka  Where query_url is: http://api.openweathermap.org/data/2.5/weather?appid=f3f8549d4a030ca7b73cbfc8d924fc9c&q=mortka&units=imperial\n",
      "Processing record for CITY: aksu  Where query_url is: http://api.openweathermap.org/data/2.5/weather?appid=f3f8549d4a030ca7b73cbfc8d924fc9c&q=aksu&units=imperial\n",
      "Processing record for CITY: san quintin  Where query_url is: http://api.openweathermap.org/data/2.5/weather?appid=f3f8549d4a030ca7b73cbfc8d924fc9c&q=san quintin&units=imperial\n",
      "Processing record for CITY: kirakira  Where query_url is: http://api.openweathermap.org/data/2.5/weather?appid=f3f8549d4a030ca7b73cbfc8d924fc9c&q=kirakira&units=imperial\n",
      "Processing record for CITY: ribas do rio pardo  Where query_url is: http://api.openweathermap.org/data/2.5/weather?appid=f3f8549d4a030ca7b73cbfc8d924fc9c&q=ribas do rio pardo&units=imperial\n",
      "Processing record for CITY: ialibu  Where query_url is: http://api.openweathermap.org/data/2.5/weather?appid=f3f8549d4a030ca7b73cbfc8d924fc9c&q=ialibu&units=imperial\n",
      "Processing record for CITY: brigantine  Where query_url is: http://api.openweathermap.org/data/2.5/weather?appid=f3f8549d4a030ca7b73cbfc8d924fc9c&q=brigantine&units=imperial\n",
      "Processing record for CITY: solnechnyy  Where query_url is: http://api.openweathermap.org/data/2.5/weather?appid=f3f8549d4a030ca7b73cbfc8d924fc9c&q=solnechnyy&units=imperial\n",
      "Processing record for CITY: svetlaya  Where query_url is: http://api.openweathermap.org/data/2.5/weather?appid=f3f8549d4a030ca7b73cbfc8d924fc9c&q=svetlaya&units=imperial\n",
      "Processing record for CITY: evensk  Where query_url is: http://api.openweathermap.org/data/2.5/weather?appid=f3f8549d4a030ca7b73cbfc8d924fc9c&q=evensk&units=imperial\n",
      "Processing record for CITY: altamira  Where query_url is: http://api.openweathermap.org/data/2.5/weather?appid=f3f8549d4a030ca7b73cbfc8d924fc9c&q=altamira&units=imperial\n",
      "Processing record for CITY: santa cruz  Where query_url is: http://api.openweathermap.org/data/2.5/weather?appid=f3f8549d4a030ca7b73cbfc8d924fc9c&q=santa cruz&units=imperial\n",
      "Processing record for CITY: el alto  Where query_url is: http://api.openweathermap.org/data/2.5/weather?appid=f3f8549d4a030ca7b73cbfc8d924fc9c&q=el alto&units=imperial\n",
      "Processing record for CITY: sterlitamak  Where query_url is: http://api.openweathermap.org/data/2.5/weather?appid=f3f8549d4a030ca7b73cbfc8d924fc9c&q=sterlitamak&units=imperial\n",
      "Processing record for CITY: bukama  Where query_url is: http://api.openweathermap.org/data/2.5/weather?appid=f3f8549d4a030ca7b73cbfc8d924fc9c&q=bukama&units=imperial\n",
      "Processing record for CITY: quanzhou  Where query_url is: http://api.openweathermap.org/data/2.5/weather?appid=f3f8549d4a030ca7b73cbfc8d924fc9c&q=quanzhou&units=imperial\n",
      "Processing record for CITY: grandola  Where query_url is: http://api.openweathermap.org/data/2.5/weather?appid=f3f8549d4a030ca7b73cbfc8d924fc9c&q=grandola&units=imperial\n",
      "Processing record for CITY: bilma  Where query_url is: http://api.openweathermap.org/data/2.5/weather?appid=f3f8549d4a030ca7b73cbfc8d924fc9c&q=bilma&units=imperial\n",
      "Processing record for CITY: praya  Where query_url is: http://api.openweathermap.org/data/2.5/weather?appid=f3f8549d4a030ca7b73cbfc8d924fc9c&q=praya&units=imperial\n",
      "Processing record for CITY: marquette  Where query_url is: http://api.openweathermap.org/data/2.5/weather?appid=f3f8549d4a030ca7b73cbfc8d924fc9c&q=marquette&units=imperial\n",
      "Processing record for CITY: kargil  Where query_url is: http://api.openweathermap.org/data/2.5/weather?appid=f3f8549d4a030ca7b73cbfc8d924fc9c&q=kargil&units=imperial\n",
      "Processing record for CITY: esna  Where query_url is: http://api.openweathermap.org/data/2.5/weather?appid=f3f8549d4a030ca7b73cbfc8d924fc9c&q=esna&units=imperial\n"
     ]
    },
    {
     "name": "stdout",
     "output_type": "stream",
     "text": [
      "Processing record for CITY: saint-leu  Where query_url is: http://api.openweathermap.org/data/2.5/weather?appid=f3f8549d4a030ca7b73cbfc8d924fc9c&q=saint-leu&units=imperial\n",
      "Processing record for CITY: kavaratti  Where query_url is: http://api.openweathermap.org/data/2.5/weather?appid=f3f8549d4a030ca7b73cbfc8d924fc9c&q=kavaratti&units=imperial\n",
      "Processing record for CITY: ongole  Where query_url is: http://api.openweathermap.org/data/2.5/weather?appid=f3f8549d4a030ca7b73cbfc8d924fc9c&q=ongole&units=imperial\n",
      "Processing record for CITY: pakxan  Where query_url is: http://api.openweathermap.org/data/2.5/weather?appid=f3f8549d4a030ca7b73cbfc8d924fc9c&q=pakxan&units=imperial\n",
      "Processing record for CITY: aksarka  Where query_url is: http://api.openweathermap.org/data/2.5/weather?appid=f3f8549d4a030ca7b73cbfc8d924fc9c&q=aksarka&units=imperial\n",
      "Processing record for CITY: mikhaylovsk  Where query_url is: http://api.openweathermap.org/data/2.5/weather?appid=f3f8549d4a030ca7b73cbfc8d924fc9c&q=mikhaylovsk&units=imperial\n",
      "Processing record for CITY: santa rosalia  Where query_url is: http://api.openweathermap.org/data/2.5/weather?appid=f3f8549d4a030ca7b73cbfc8d924fc9c&q=santa rosalia&units=imperial\n",
      "Processing record for CITY: arenys de mar  Where query_url is: http://api.openweathermap.org/data/2.5/weather?appid=f3f8549d4a030ca7b73cbfc8d924fc9c&q=arenys de mar&units=imperial\n",
      "Processing record for CITY: havelock  Where query_url is: http://api.openweathermap.org/data/2.5/weather?appid=f3f8549d4a030ca7b73cbfc8d924fc9c&q=havelock&units=imperial\n",
      "Processing record for CITY: along  Where query_url is: http://api.openweathermap.org/data/2.5/weather?appid=f3f8549d4a030ca7b73cbfc8d924fc9c&q=along&units=imperial\n",
      "Processing record for CITY: kalas  Where query_url is: http://api.openweathermap.org/data/2.5/weather?appid=f3f8549d4a030ca7b73cbfc8d924fc9c&q=kalas&units=imperial\n",
      "Processing record for CITY: davila  Where query_url is: http://api.openweathermap.org/data/2.5/weather?appid=f3f8549d4a030ca7b73cbfc8d924fc9c&q=davila&units=imperial\n",
      "Processing record for CITY: kumluca  Where query_url is: http://api.openweathermap.org/data/2.5/weather?appid=f3f8549d4a030ca7b73cbfc8d924fc9c&q=kumluca&units=imperial\n",
      "Processing record for CITY: codrington  Where query_url is: http://api.openweathermap.org/data/2.5/weather?appid=f3f8549d4a030ca7b73cbfc8d924fc9c&q=codrington&units=imperial\n",
      "Processing record for CITY: pangai  Where query_url is: http://api.openweathermap.org/data/2.5/weather?appid=f3f8549d4a030ca7b73cbfc8d924fc9c&q=pangai&units=imperial\n",
      "Processing record for CITY: unai  Where query_url is: http://api.openweathermap.org/data/2.5/weather?appid=f3f8549d4a030ca7b73cbfc8d924fc9c&q=unai&units=imperial\n",
      "Processing record for CITY: grindavik  Where query_url is: http://api.openweathermap.org/data/2.5/weather?appid=f3f8549d4a030ca7b73cbfc8d924fc9c&q=grindavik&units=imperial\n",
      "Processing record for CITY: vao  Where query_url is: http://api.openweathermap.org/data/2.5/weather?appid=f3f8549d4a030ca7b73cbfc8d924fc9c&q=vao&units=imperial\n",
      "Processing record for CITY: madison  Where query_url is: http://api.openweathermap.org/data/2.5/weather?appid=f3f8549d4a030ca7b73cbfc8d924fc9c&q=madison&units=imperial\n",
      "Processing record for CITY: havoysund  Where query_url is: http://api.openweathermap.org/data/2.5/weather?appid=f3f8549d4a030ca7b73cbfc8d924fc9c&q=havoysund&units=imperial\n",
      "Processing record for CITY: santa maria  Where query_url is: http://api.openweathermap.org/data/2.5/weather?appid=f3f8549d4a030ca7b73cbfc8d924fc9c&q=santa maria&units=imperial\n",
      "Processing record for CITY: the pas  Where query_url is: http://api.openweathermap.org/data/2.5/weather?appid=f3f8549d4a030ca7b73cbfc8d924fc9c&q=the pas&units=imperial\n",
      "Processing record for CITY: bilibino  Where query_url is: http://api.openweathermap.org/data/2.5/weather?appid=f3f8549d4a030ca7b73cbfc8d924fc9c&q=bilibino&units=imperial\n",
      "Processing record for CITY: trat  Where query_url is: http://api.openweathermap.org/data/2.5/weather?appid=f3f8549d4a030ca7b73cbfc8d924fc9c&q=trat&units=imperial\n",
      "Processing record for CITY: gat  Where query_url is: http://api.openweathermap.org/data/2.5/weather?appid=f3f8549d4a030ca7b73cbfc8d924fc9c&q=gat&units=imperial\n",
      "Processing record for CITY: keetmanshoop  Where query_url is: http://api.openweathermap.org/data/2.5/weather?appid=f3f8549d4a030ca7b73cbfc8d924fc9c&q=keetmanshoop&units=imperial\n",
      "Processing record for CITY: rocha  Where query_url is: http://api.openweathermap.org/data/2.5/weather?appid=f3f8549d4a030ca7b73cbfc8d924fc9c&q=rocha&units=imperial\n",
      "Processing record for CITY: kiunga  Where query_url is: http://api.openweathermap.org/data/2.5/weather?appid=f3f8549d4a030ca7b73cbfc8d924fc9c&q=kiunga&units=imperial\n",
      "Processing record for CITY: nantucket  Where query_url is: http://api.openweathermap.org/data/2.5/weather?appid=f3f8549d4a030ca7b73cbfc8d924fc9c&q=nantucket&units=imperial\n",
      "Processing record for CITY: falesti  Where query_url is: http://api.openweathermap.org/data/2.5/weather?appid=f3f8549d4a030ca7b73cbfc8d924fc9c&q=falesti&units=imperial\n",
      "Processing record for CITY: venado tuerto  Where query_url is: http://api.openweathermap.org/data/2.5/weather?appid=f3f8549d4a030ca7b73cbfc8d924fc9c&q=venado tuerto&units=imperial\n",
      "Processing record for CITY: muscle shoals  Where query_url is: http://api.openweathermap.org/data/2.5/weather?appid=f3f8549d4a030ca7b73cbfc8d924fc9c&q=muscle shoals&units=imperial\n",
      "Processing record for CITY: quatre cocos  Where query_url is: http://api.openweathermap.org/data/2.5/weather?appid=f3f8549d4a030ca7b73cbfc8d924fc9c&q=quatre cocos&units=imperial\n",
      "Processing record for CITY: portland  Where query_url is: http://api.openweathermap.org/data/2.5/weather?appid=f3f8549d4a030ca7b73cbfc8d924fc9c&q=portland&units=imperial\n",
      "Processing record for CITY: alzamay  Where query_url is: http://api.openweathermap.org/data/2.5/weather?appid=f3f8549d4a030ca7b73cbfc8d924fc9c&q=alzamay&units=imperial\n",
      "Processing record for CITY: pietarsaari  Where query_url is: http://api.openweathermap.org/data/2.5/weather?appid=f3f8549d4a030ca7b73cbfc8d924fc9c&q=pietarsaari&units=imperial\n",
      "Processing record for CITY: mayo  Where query_url is: http://api.openweathermap.org/data/2.5/weather?appid=f3f8549d4a030ca7b73cbfc8d924fc9c&q=mayo&units=imperial\n",
      "Processing record for CITY: caraquet  Where query_url is: http://api.openweathermap.org/data/2.5/weather?appid=f3f8549d4a030ca7b73cbfc8d924fc9c&q=caraquet&units=imperial\n",
      "Processing record for CITY: pacific grove  Where query_url is: http://api.openweathermap.org/data/2.5/weather?appid=f3f8549d4a030ca7b73cbfc8d924fc9c&q=pacific grove&units=imperial\n",
      "Processing record for CITY: port macquarie  Where query_url is: http://api.openweathermap.org/data/2.5/weather?appid=f3f8549d4a030ca7b73cbfc8d924fc9c&q=port macquarie&units=imperial\n",
      "Processing record for CITY: alofi  Where query_url is: http://api.openweathermap.org/data/2.5/weather?appid=f3f8549d4a030ca7b73cbfc8d924fc9c&q=alofi&units=imperial\n",
      "Processing record for CITY: reconquista  Where query_url is: http://api.openweathermap.org/data/2.5/weather?appid=f3f8549d4a030ca7b73cbfc8d924fc9c&q=reconquista&units=imperial\n",
      "Processing record for CITY: bereda  Where query_url is: http://api.openweathermap.org/data/2.5/weather?appid=f3f8549d4a030ca7b73cbfc8d924fc9c&q=bereda&units=imperial\n",
      "Processing record for CITY: suez  Where query_url is: http://api.openweathermap.org/data/2.5/weather?appid=f3f8549d4a030ca7b73cbfc8d924fc9c&q=suez&units=imperial\n",
      "Processing record for CITY: bollnas  Where query_url is: http://api.openweathermap.org/data/2.5/weather?appid=f3f8549d4a030ca7b73cbfc8d924fc9c&q=bollnas&units=imperial\n",
      "Processing record for CITY: ereymentau  Where query_url is: http://api.openweathermap.org/data/2.5/weather?appid=f3f8549d4a030ca7b73cbfc8d924fc9c&q=ereymentau&units=imperial\n",
      "Processing record for CITY: hermon  Where query_url is: http://api.openweathermap.org/data/2.5/weather?appid=f3f8549d4a030ca7b73cbfc8d924fc9c&q=hermon&units=imperial\n",
      "Processing record for CITY: goundi  Where query_url is: http://api.openweathermap.org/data/2.5/weather?appid=f3f8549d4a030ca7b73cbfc8d924fc9c&q=goundi&units=imperial\n",
      "Processing record for CITY: juneau  Where query_url is: http://api.openweathermap.org/data/2.5/weather?appid=f3f8549d4a030ca7b73cbfc8d924fc9c&q=juneau&units=imperial\n"
     ]
    },
    {
     "name": "stdout",
     "output_type": "stream",
     "text": [
      "Processing record for CITY: angoche  Where query_url is: http://api.openweathermap.org/data/2.5/weather?appid=f3f8549d4a030ca7b73cbfc8d924fc9c&q=angoche&units=imperial\n",
      "Processing record for CITY: silifke  Where query_url is: http://api.openweathermap.org/data/2.5/weather?appid=f3f8549d4a030ca7b73cbfc8d924fc9c&q=silifke&units=imperial\n",
      "Processing record for CITY: saint-pierre  Where query_url is: http://api.openweathermap.org/data/2.5/weather?appid=f3f8549d4a030ca7b73cbfc8d924fc9c&q=saint-pierre&units=imperial\n",
      "Processing record for CITY: conde  Where query_url is: http://api.openweathermap.org/data/2.5/weather?appid=f3f8549d4a030ca7b73cbfc8d924fc9c&q=conde&units=imperial\n",
      "Processing record for CITY: agadez  Where query_url is: http://api.openweathermap.org/data/2.5/weather?appid=f3f8549d4a030ca7b73cbfc8d924fc9c&q=agadez&units=imperial\n",
      "Processing record for CITY: ginir  Where query_url is: http://api.openweathermap.org/data/2.5/weather?appid=f3f8549d4a030ca7b73cbfc8d924fc9c&q=ginir&units=imperial\n",
      "Processing record for CITY: sorong  Where query_url is: http://api.openweathermap.org/data/2.5/weather?appid=f3f8549d4a030ca7b73cbfc8d924fc9c&q=sorong&units=imperial\n",
      "Processing record for CITY: lichinga  Where query_url is: http://api.openweathermap.org/data/2.5/weather?appid=f3f8549d4a030ca7b73cbfc8d924fc9c&q=lichinga&units=imperial\n",
      "Processing record for CITY: snezhnogorsk  Where query_url is: http://api.openweathermap.org/data/2.5/weather?appid=f3f8549d4a030ca7b73cbfc8d924fc9c&q=snezhnogorsk&units=imperial\n",
      "Processing record for CITY: oranjemund  Where query_url is: http://api.openweathermap.org/data/2.5/weather?appid=f3f8549d4a030ca7b73cbfc8d924fc9c&q=oranjemund&units=imperial\n",
      "Processing record for CITY: rabat  Where query_url is: http://api.openweathermap.org/data/2.5/weather?appid=f3f8549d4a030ca7b73cbfc8d924fc9c&q=rabat&units=imperial\n",
      "Processing record for CITY: dhidhdhoo  Where query_url is: http://api.openweathermap.org/data/2.5/weather?appid=f3f8549d4a030ca7b73cbfc8d924fc9c&q=dhidhdhoo&units=imperial\n",
      "Processing record for CITY: hashtgerd  Where query_url is: http://api.openweathermap.org/data/2.5/weather?appid=f3f8549d4a030ca7b73cbfc8d924fc9c&q=hashtgerd&units=imperial\n",
      "Processing record for CITY: krasnogorsk  Where query_url is: http://api.openweathermap.org/data/2.5/weather?appid=f3f8549d4a030ca7b73cbfc8d924fc9c&q=krasnogorsk&units=imperial\n",
      "Processing record for CITY: celestun  Where query_url is: http://api.openweathermap.org/data/2.5/weather?appid=f3f8549d4a030ca7b73cbfc8d924fc9c&q=celestun&units=imperial\n",
      "Processing record for CITY: fare  Where query_url is: http://api.openweathermap.org/data/2.5/weather?appid=f3f8549d4a030ca7b73cbfc8d924fc9c&q=fare&units=imperial\n",
      "Processing record for CITY: tucumcari  Where query_url is: http://api.openweathermap.org/data/2.5/weather?appid=f3f8549d4a030ca7b73cbfc8d924fc9c&q=tucumcari&units=imperial\n",
      "Processing record for CITY: fort nelson  Where query_url is: http://api.openweathermap.org/data/2.5/weather?appid=f3f8549d4a030ca7b73cbfc8d924fc9c&q=fort nelson&units=imperial\n",
      "Processing record for CITY: slavonice  Where query_url is: http://api.openweathermap.org/data/2.5/weather?appid=f3f8549d4a030ca7b73cbfc8d924fc9c&q=slavonice&units=imperial\n",
      "Processing record for CITY: gerardmer  Where query_url is: http://api.openweathermap.org/data/2.5/weather?appid=f3f8549d4a030ca7b73cbfc8d924fc9c&q=gerardmer&units=imperial\n",
      "Processing record for CITY: la ronge  Where query_url is: http://api.openweathermap.org/data/2.5/weather?appid=f3f8549d4a030ca7b73cbfc8d924fc9c&q=la ronge&units=imperial\n",
      "Processing record for CITY: matara  Where query_url is: http://api.openweathermap.org/data/2.5/weather?appid=f3f8549d4a030ca7b73cbfc8d924fc9c&q=matara&units=imperial\n",
      "Processing record for CITY: kumta  Where query_url is: http://api.openweathermap.org/data/2.5/weather?appid=f3f8549d4a030ca7b73cbfc8d924fc9c&q=kumta&units=imperial\n",
      "Processing record for CITY: balaipungut  Where query_url is: http://api.openweathermap.org/data/2.5/weather?appid=f3f8549d4a030ca7b73cbfc8d924fc9c&q=balaipungut&units=imperial\n",
      "Processing record for CITY: pitimbu  Where query_url is: http://api.openweathermap.org/data/2.5/weather?appid=f3f8549d4a030ca7b73cbfc8d924fc9c&q=pitimbu&units=imperial\n",
      "Processing record for CITY: seoul  Where query_url is: http://api.openweathermap.org/data/2.5/weather?appid=f3f8549d4a030ca7b73cbfc8d924fc9c&q=seoul&units=imperial\n",
      "Processing record for CITY: veraval  Where query_url is: http://api.openweathermap.org/data/2.5/weather?appid=f3f8549d4a030ca7b73cbfc8d924fc9c&q=veraval&units=imperial\n",
      "Processing record for CITY: yulara  Where query_url is: http://api.openweathermap.org/data/2.5/weather?appid=f3f8549d4a030ca7b73cbfc8d924fc9c&q=yulara&units=imperial\n",
      "Processing record for CITY: verkhnyaya inta  Where query_url is: http://api.openweathermap.org/data/2.5/weather?appid=f3f8549d4a030ca7b73cbfc8d924fc9c&q=verkhnyaya inta&units=imperial\n",
      "Processing record for CITY: zyryanka  Where query_url is: http://api.openweathermap.org/data/2.5/weather?appid=f3f8549d4a030ca7b73cbfc8d924fc9c&q=zyryanka&units=imperial\n",
      "Processing record for CITY: senanga  Where query_url is: http://api.openweathermap.org/data/2.5/weather?appid=f3f8549d4a030ca7b73cbfc8d924fc9c&q=senanga&units=imperial\n",
      "Processing record for CITY: nouadhibou  Where query_url is: http://api.openweathermap.org/data/2.5/weather?appid=f3f8549d4a030ca7b73cbfc8d924fc9c&q=nouadhibou&units=imperial\n",
      "Processing record for CITY: taman  Where query_url is: http://api.openweathermap.org/data/2.5/weather?appid=f3f8549d4a030ca7b73cbfc8d924fc9c&q=taman&units=imperial\n",
      "Processing record for CITY: omsukchan  Where query_url is: http://api.openweathermap.org/data/2.5/weather?appid=f3f8549d4a030ca7b73cbfc8d924fc9c&q=omsukchan&units=imperial\n",
      "Processing record for CITY: kiama  Where query_url is: http://api.openweathermap.org/data/2.5/weather?appid=f3f8549d4a030ca7b73cbfc8d924fc9c&q=kiama&units=imperial\n",
      "Processing record for CITY: kysyl-syr  Where query_url is: http://api.openweathermap.org/data/2.5/weather?appid=f3f8549d4a030ca7b73cbfc8d924fc9c&q=kysyl-syr&units=imperial\n",
      "Processing record for CITY: rurrenabaque  Where query_url is: http://api.openweathermap.org/data/2.5/weather?appid=f3f8549d4a030ca7b73cbfc8d924fc9c&q=rurrenabaque&units=imperial\n",
      "Processing record for CITY: makhachkala  Where query_url is: http://api.openweathermap.org/data/2.5/weather?appid=f3f8549d4a030ca7b73cbfc8d924fc9c&q=makhachkala&units=imperial\n",
      "Processing record for CITY: samana  Where query_url is: http://api.openweathermap.org/data/2.5/weather?appid=f3f8549d4a030ca7b73cbfc8d924fc9c&q=samana&units=imperial\n",
      "Processing record for CITY: sao francisco  Where query_url is: http://api.openweathermap.org/data/2.5/weather?appid=f3f8549d4a030ca7b73cbfc8d924fc9c&q=sao francisco&units=imperial\n",
      "Processing record for CITY: sobolevo  Where query_url is: http://api.openweathermap.org/data/2.5/weather?appid=f3f8549d4a030ca7b73cbfc8d924fc9c&q=sobolevo&units=imperial\n",
      "Processing record for CITY: pangnirtung  Where query_url is: http://api.openweathermap.org/data/2.5/weather?appid=f3f8549d4a030ca7b73cbfc8d924fc9c&q=pangnirtung&units=imperial\n",
      "Processing record for CITY: sao domingos do maranhao  Where query_url is: http://api.openweathermap.org/data/2.5/weather?appid=f3f8549d4a030ca7b73cbfc8d924fc9c&q=sao domingos do maranhao&units=imperial\n",
      "Processing record for CITY: byron bay  Where query_url is: http://api.openweathermap.org/data/2.5/weather?appid=f3f8549d4a030ca7b73cbfc8d924fc9c&q=byron bay&units=imperial\n",
      "Processing record for CITY: te anau  Where query_url is: http://api.openweathermap.org/data/2.5/weather?appid=f3f8549d4a030ca7b73cbfc8d924fc9c&q=te anau&units=imperial\n",
      "Processing record for CITY: puerto madryn  Where query_url is: http://api.openweathermap.org/data/2.5/weather?appid=f3f8549d4a030ca7b73cbfc8d924fc9c&q=puerto madryn&units=imperial\n",
      "Processing record for CITY: marystown  Where query_url is: http://api.openweathermap.org/data/2.5/weather?appid=f3f8549d4a030ca7b73cbfc8d924fc9c&q=marystown&units=imperial\n",
      "Processing record for CITY: new iberia  Where query_url is: http://api.openweathermap.org/data/2.5/weather?appid=f3f8549d4a030ca7b73cbfc8d924fc9c&q=new iberia&units=imperial\n"
     ]
    },
    {
     "name": "stdout",
     "output_type": "stream",
     "text": [
      "Processing record for CITY: baykit  Where query_url is: http://api.openweathermap.org/data/2.5/weather?appid=f3f8549d4a030ca7b73cbfc8d924fc9c&q=baykit&units=imperial\n",
      "Processing record for CITY: lethbridge  Where query_url is: http://api.openweathermap.org/data/2.5/weather?appid=f3f8549d4a030ca7b73cbfc8d924fc9c&q=lethbridge&units=imperial\n",
      "Processing record for CITY: buritizeiro  Where query_url is: http://api.openweathermap.org/data/2.5/weather?appid=f3f8549d4a030ca7b73cbfc8d924fc9c&q=buritizeiro&units=imperial\n",
      "Processing record for CITY: marsa matruh  Where query_url is: http://api.openweathermap.org/data/2.5/weather?appid=f3f8549d4a030ca7b73cbfc8d924fc9c&q=marsa matruh&units=imperial\n",
      "Processing record for CITY: bethlehem  Where query_url is: http://api.openweathermap.org/data/2.5/weather?appid=f3f8549d4a030ca7b73cbfc8d924fc9c&q=bethlehem&units=imperial\n",
      "Processing record for CITY: north bend  Where query_url is: http://api.openweathermap.org/data/2.5/weather?appid=f3f8549d4a030ca7b73cbfc8d924fc9c&q=north bend&units=imperial\n",
      "Processing record for CITY: lata  Where query_url is: http://api.openweathermap.org/data/2.5/weather?appid=f3f8549d4a030ca7b73cbfc8d924fc9c&q=lata&units=imperial\n",
      "Processing record for CITY: bubaque  Where query_url is: http://api.openweathermap.org/data/2.5/weather?appid=f3f8549d4a030ca7b73cbfc8d924fc9c&q=bubaque&units=imperial\n",
      "Processing record for CITY: oksfjord  Where query_url is: http://api.openweathermap.org/data/2.5/weather?appid=f3f8549d4a030ca7b73cbfc8d924fc9c&q=oksfjord&units=imperial\n",
      "Processing record for CITY: tura  Where query_url is: http://api.openweathermap.org/data/2.5/weather?appid=f3f8549d4a030ca7b73cbfc8d924fc9c&q=tura&units=imperial\n",
      "Processing record for CITY: victor harbor  Where query_url is: http://api.openweathermap.org/data/2.5/weather?appid=f3f8549d4a030ca7b73cbfc8d924fc9c&q=victor harbor&units=imperial\n",
      "Processing record for CITY: skibbereen  Where query_url is: http://api.openweathermap.org/data/2.5/weather?appid=f3f8549d4a030ca7b73cbfc8d924fc9c&q=skibbereen&units=imperial\n",
      "Processing record for CITY: jiblah  Where query_url is: http://api.openweathermap.org/data/2.5/weather?appid=f3f8549d4a030ca7b73cbfc8d924fc9c&q=jiblah&units=imperial\n",
      "Processing record for CITY: bad liebenzell  Where query_url is: http://api.openweathermap.org/data/2.5/weather?appid=f3f8549d4a030ca7b73cbfc8d924fc9c&q=bad liebenzell&units=imperial\n",
      "Processing record for CITY: kurchum  Where query_url is: http://api.openweathermap.org/data/2.5/weather?appid=f3f8549d4a030ca7b73cbfc8d924fc9c&q=kurchum&units=imperial\n",
      "Processing record for CITY: iquique  Where query_url is: http://api.openweathermap.org/data/2.5/weather?appid=f3f8549d4a030ca7b73cbfc8d924fc9c&q=iquique&units=imperial\n",
      "Processing record for CITY: taybad  Where query_url is: http://api.openweathermap.org/data/2.5/weather?appid=f3f8549d4a030ca7b73cbfc8d924fc9c&q=taybad&units=imperial\n",
      "-----------------------\n",
      "END PROCESSING DATA\n",
      "-----------------------\n"
     ]
    }
   ],
   "source": [
    "# Use Openweather api to get the weather data needed from those cities.\n",
    "name = []\n",
    "temp = []\n",
    "humidity = []\n",
    "clouds = []\n",
    "wind = []\n",
    "lat = []\n",
    "lon = []\n",
    "country = []\n",
    "\n",
    "# Build query URL\n",
    "print(\"-----------------------\")\n",
    "print(\"START PROCESSING DATA\")\n",
    "print(\"-----------------------\")\n",
    "\n",
    "for city in cities:\n",
    "    query_url = url + \"appid=\" + api_key + \"&q=\" + city + \"&units=imperial\"\n",
    "    response = requests.get(query_url)\n",
    "    if response.status_code == 200:\n",
    "        response = response.json()\n",
    "        temp.append(response[\"main\"][\"temp\"])\n",
    "        humidity.append(response[\"main\"][\"humidity\"])\n",
    "        clouds.append(response[\"clouds\"][\"all\"])\n",
    "        wind.append(response[\"wind\"][\"speed\"])\n",
    "        lat.append(response[\"coord\"][\"lat\"])\n",
    "        lon.append(response[\"coord\"][\"lon\"])\n",
    "        country.append(response[\"sys\"][\"country\"])\n",
    "        name.append(response[\"name\"])\n",
    "        #print log of each city as it'sbeing processed (with the city number and city name\n",
    "        print(f\"Processing record for CITY: \" + city, \" Where query_url is: \" + query_url)\n",
    "print(\"-----------------------\")\n",
    "print(\"END PROCESSING DATA\")\n",
    "print(\"-----------------------\")"
   ]
  },
  {
   "cell_type": "markdown",
   "metadata": {},
   "source": [
    "### Convert Raw Data to DataFrame\n",
    "* Export the city data into a .csv.\n",
    "* Display the DataFrame"
   ]
  },
  {
   "cell_type": "code",
   "execution_count": 65,
   "metadata": {},
   "outputs": [
    {
     "data": {
      "text/html": [
       "<div>\n",
       "<style scoped>\n",
       "    .dataframe tbody tr th:only-of-type {\n",
       "        vertical-align: middle;\n",
       "    }\n",
       "\n",
       "    .dataframe tbody tr th {\n",
       "        vertical-align: top;\n",
       "    }\n",
       "\n",
       "    .dataframe thead th {\n",
       "        text-align: right;\n",
       "    }\n",
       "</style>\n",
       "<table border=\"1\" class=\"dataframe\">\n",
       "  <thead>\n",
       "    <tr style=\"text-align: right;\">\n",
       "      <th></th>\n",
       "      <th>City</th>\n",
       "      <th>Temperature (F)</th>\n",
       "      <th>Humidity (%)</th>\n",
       "      <th>Cloudiness (%)</th>\n",
       "      <th>Wind Speed (mph)</th>\n",
       "      <th>Latitude</th>\n",
       "      <th>Longitude</th>\n",
       "      <th>Country</th>\n",
       "    </tr>\n",
       "  </thead>\n",
       "  <tbody>\n",
       "    <tr>\n",
       "      <th>0</th>\n",
       "      <td>Caconda</td>\n",
       "      <td>52.11</td>\n",
       "      <td>58</td>\n",
       "      <td>7</td>\n",
       "      <td>3.89</td>\n",
       "      <td>-13.73</td>\n",
       "      <td>15.07</td>\n",
       "      <td>AO</td>\n",
       "    </tr>\n",
       "    <tr>\n",
       "      <th>1</th>\n",
       "      <td>Punta Arenas</td>\n",
       "      <td>39.09</td>\n",
       "      <td>86</td>\n",
       "      <td>75</td>\n",
       "      <td>4.70</td>\n",
       "      <td>-53.15</td>\n",
       "      <td>-70.92</td>\n",
       "      <td>CL</td>\n",
       "    </tr>\n",
       "    <tr>\n",
       "      <th>2</th>\n",
       "      <td>Ushuaia</td>\n",
       "      <td>39.20</td>\n",
       "      <td>93</td>\n",
       "      <td>75</td>\n",
       "      <td>4.70</td>\n",
       "      <td>-54.80</td>\n",
       "      <td>-68.30</td>\n",
       "      <td>AR</td>\n",
       "    </tr>\n",
       "    <tr>\n",
       "      <th>3</th>\n",
       "      <td>Ndélé</td>\n",
       "      <td>75.49</td>\n",
       "      <td>80</td>\n",
       "      <td>87</td>\n",
       "      <td>4.72</td>\n",
       "      <td>8.41</td>\n",
       "      <td>20.65</td>\n",
       "      <td>CF</td>\n",
       "    </tr>\n",
       "    <tr>\n",
       "      <th>4</th>\n",
       "      <td>Synya</td>\n",
       "      <td>64.33</td>\n",
       "      <td>62</td>\n",
       "      <td>98</td>\n",
       "      <td>7.94</td>\n",
       "      <td>65.37</td>\n",
       "      <td>58.04</td>\n",
       "      <td>RU</td>\n",
       "    </tr>\n",
       "  </tbody>\n",
       "</table>\n",
       "</div>"
      ],
      "text/plain": [
       "           City  Temperature (F)  Humidity (%)  Cloudiness (%)  \\\n",
       "0       Caconda            52.11            58               7   \n",
       "1  Punta Arenas            39.09            86              75   \n",
       "2       Ushuaia            39.20            93              75   \n",
       "3         Ndélé            75.49            80              87   \n",
       "4         Synya            64.33            62              98   \n",
       "\n",
       "   Wind Speed (mph)  Latitude  Longitude Country  \n",
       "0              3.89    -13.73      15.07      AO  \n",
       "1              4.70    -53.15     -70.92      CL  \n",
       "2              4.70    -54.80     -68.30      AR  \n",
       "3              4.72      8.41      20.65      CF  \n",
       "4              7.94     65.37      58.04      RU  "
      ]
     },
     "execution_count": 65,
     "metadata": {},
     "output_type": "execute_result"
    }
   ],
   "source": [
    "weather_df = pd.DataFrame({\"City\": name,\n",
    "                        \"Temperature (F)\": temp,\n",
    "                        \"Humidity (%)\": humidity,\n",
    "                        \"Cloudiness (%)\": clouds,\n",
    "                        \"Wind Speed (mph)\": wind,\n",
    "                        \"Latitude\": lat, \n",
    "                        \"Longitude\": lon,\n",
    "                        \"Country\": country\n",
    "                       })\n",
    "weather_df.head()"
   ]
  },
  {
   "cell_type": "code",
   "execution_count": 66,
   "metadata": {},
   "outputs": [
    {
     "data": {
      "text/plain": [
       "City                554\n",
       "Temperature (F)     554\n",
       "Humidity (%)        554\n",
       "Cloudiness (%)      554\n",
       "Wind Speed (mph)    554\n",
       "Latitude            554\n",
       "Longitude           554\n",
       "Country             554\n",
       "dtype: int64"
      ]
     },
     "execution_count": 66,
     "metadata": {},
     "output_type": "execute_result"
    }
   ],
   "source": [
    "weather_df.count()"
   ]
  },
  {
   "cell_type": "markdown",
   "metadata": {},
   "source": [
    "## Inspect the data and remove the cities where the humidity > 100%.\n",
    "----\n",
    "Create a new dataframe for cities where Humidity > 100"
   ]
  },
  {
   "cell_type": "code",
   "execution_count": 67,
   "metadata": {},
   "outputs": [
    {
     "data": {
      "text/html": [
       "<div>\n",
       "<style scoped>\n",
       "    .dataframe tbody tr th:only-of-type {\n",
       "        vertical-align: middle;\n",
       "    }\n",
       "\n",
       "    .dataframe tbody tr th {\n",
       "        vertical-align: top;\n",
       "    }\n",
       "\n",
       "    .dataframe thead th {\n",
       "        text-align: right;\n",
       "    }\n",
       "</style>\n",
       "<table border=\"1\" class=\"dataframe\">\n",
       "  <thead>\n",
       "    <tr style=\"text-align: right;\">\n",
       "      <th></th>\n",
       "      <th>City</th>\n",
       "      <th>Temperature (F)</th>\n",
       "      <th>Humidity (%)</th>\n",
       "      <th>Cloudiness (%)</th>\n",
       "      <th>Wind Speed (mph)</th>\n",
       "      <th>Latitude</th>\n",
       "      <th>Longitude</th>\n",
       "      <th>Country</th>\n",
       "    </tr>\n",
       "  </thead>\n",
       "  <tbody>\n",
       "  </tbody>\n",
       "</table>\n",
       "</div>"
      ],
      "text/plain": [
       "Empty DataFrame\n",
       "Columns: [City, Temperature (F), Humidity (%), Cloudiness (%), Wind Speed (mph), Latitude, Longitude, Country]\n",
       "Index: []"
      ]
     },
     "execution_count": 67,
     "metadata": {},
     "output_type": "execute_result"
    }
   ],
   "source": [
    "#  Get the indices of cities that have humidity over 100%.\n",
    "weather_df_100 = weather_df[weather_df.iloc[:,2] > 100]     \n",
    "weather_df_100"
   ]
  },
  {
   "cell_type": "markdown",
   "metadata": {},
   "source": [
    "#### No cities with Humidity > 100 are found"
   ]
  },
  {
   "cell_type": "code",
   "execution_count": 68,
   "metadata": {},
   "outputs": [],
   "source": [
    "# Make a new DataFrame equal to the city data to drop all humidity outliers by index.\n",
    "# Passing \"inplace=False\" will make a copy of the city_data DataFrame, which we call \"clean_city_data\"."
   ]
  },
  {
   "cell_type": "code",
   "execution_count": 69,
   "metadata": {},
   "outputs": [],
   "source": [
    "# Extract relevant fields from the data frame\n",
    "# Export the City_Data into a csv\n",
    "weather_df.to_csv(\"Output/cities.csv\", index = False)"
   ]
  },
  {
   "cell_type": "markdown",
   "metadata": {},
   "source": [
    "## Plotting the Data\n",
    "* Use proper labeling of the plots using plot titles (including date of analysis) and axes labels.\n",
    "* Save the plotted figures as .pngs."
   ]
  },
  {
   "cell_type": "markdown",
   "metadata": {},
   "source": [
    "## Latitude vs. Temperature Plot\n",
    "#### * After each plot add a sentence or too explaining what the code is and analyzing."
   ]
  },
  {
   "cell_type": "code",
   "execution_count": 70,
   "metadata": {
    "scrolled": false
   },
   "outputs": [
    {
     "data": {
      "image/png": "[encoded data removed]",
      "text/plain": [
       "<Figure size 432x288 with 1 Axes>"
      ]
     },
     "metadata": {
      "needs_background": "light"
     },
     "output_type": "display_data"
    }
   ],
   "source": [
    "#Build the plot Latitude vs. Temperature\n",
    "weather_df.plot.scatter(x= \"Latitude\", y= \"Temperature (F)\", title=\"Latitude vs. Temperature (F)\")\n",
    "plt.savefig(\"Latitude_vs_Temperature.png\")"
   ]
  },
  {
   "cell_type": "markdown",
   "metadata": {},
   "source": [
    "* A scatter plot is a type of a mathematical diagram using Cartesian coordinates to display values for typically two variables for a set of data. The data are displayed as a collection of points, each having the value of one variable determining the position on the horizontal axis and the value of the other variable determining the position on the vertical axis.\n",
    "* A scatter plot can be used either when one continuous variable that is under the control of the experimenter and the other depends on it. In this case we are analyzing how the Temperature behaves along the Latitude of cities. \n",
    "* The measured or dependent variable is customarily plotted along the vertical axis, that is the case of Temperature. The scatter plot can suggest various kinds of correlations between variables with a certain confidence interval.\n",
    "* We can see that Temperature on the low and high values of Latitude is cold. That is an expected behavior, because those cities are close to the poles. Cities at the center of the earth are quite warm and hot and it is also demonstrated on the scatter plot."
   ]
  },
  {
   "cell_type": "markdown",
   "metadata": {},
   "source": [
    "## Latitude vs. Humidity Plot"
   ]
  },
  {
   "cell_type": "code",
   "execution_count": 71,
   "metadata": {},
   "outputs": [
    {
     "data": {
      "image/png": "[encoded data removed]",
      "text/plain": [
       "<Figure size 432x288 with 1 Axes>"
      ]
     },
     "metadata": {
      "needs_background": "light"
     },
     "output_type": "display_data"
    }
   ],
   "source": [
    "#Build the plot Latitude vs. Humidity\n",
    "weather_df.plot.scatter(x= \"Latitude\", y= \"Humidity (%)\", title=\"Latitude vs. Humidity (%)\")\n",
    "plt.savefig(\"Latitude_vs_Humidity.png\")"
   ]
  },
  {
   "cell_type": "markdown",
   "metadata": {},
   "source": [
    "* The measured or dependent variable is customarily plotted along the vertical axis, that is the case of Humidity. The scatter plot can suggest various kinds of correlations between variables with a certain confidence interval.\n",
    "* We can see some kind of correlation between these two variables. Humidity is more correlated in cities with Latitude above 0, so it increases when we move to cities with Latitude between 60 to 80."
   ]
  },
  {
   "cell_type": "markdown",
   "metadata": {},
   "source": [
    "## Latitude vs. Cloudiness Plot"
   ]
  },
  {
   "cell_type": "code",
   "execution_count": 72,
   "metadata": {},
   "outputs": [
    {
     "data": {
      "image/png": "[encoded data removed]",
      "text/plain": [
       "<Figure size 432x288 with 1 Axes>"
      ]
     },
     "metadata": {
      "needs_background": "light"
     },
     "output_type": "display_data"
    }
   ],
   "source": [
    "#Build the plot Latitude vs Cloudiness\n",
    "weather_df.plot.scatter(x= \"Latitude\", y= \"Cloudiness (%)\", title=\"Latitude vs. Cloudiness (%)\")\n",
    "plt.savefig(\"Latitude_vs_Cloudiness.png\")"
   ]
  },
  {
   "cell_type": "markdown",
   "metadata": {},
   "source": [
    "* The measured or dependent variable is customarily plotted along the vertical axis, that is the case of Clodiness. The scatter plot can suggest various kinds of correlations between variables with a certain confidence interval.\n",
    "* We can not appreciate a clear correlation between two variables bacuase all the points are spread along the graph."
   ]
  },
  {
   "cell_type": "markdown",
   "metadata": {},
   "source": [
    "## Latitude vs. Wind Speed Plot"
   ]
  },
  {
   "cell_type": "code",
   "execution_count": 73,
   "metadata": {
    "scrolled": true
   },
   "outputs": [
    {
     "data": {
      "image/png": "[encoded data removed]",
      "text/plain": [
       "<Figure size 432x288 with 1 Axes>"
      ]
     },
     "metadata": {
      "needs_background": "light"
     },
     "output_type": "display_data"
    }
   ],
   "source": [
    "#Build the plot Latitude vs Wind Speed\n",
    "weather_df.plot.scatter(x= \"Latitude\", y= \"Wind Speed (mph)\", title=\"Latitude vs. Wind Speed (mph)\")\n",
    "plt.savefig(\"Latitude_vs_WindSpeed.png\")"
   ]
  },
  {
   "cell_type": "markdown",
   "metadata": {},
   "source": [
    "* The measured or dependent variable is customarily plotted along the vertical axis, that is the case of Wind Speed. The scatter plot can suggest various kinds of correlations between variables with a certain confidence interval.\n",
    "* We can not appreciate a clear correlation between two variables bacuase all the points are spread along the graph."
   ]
  },
  {
   "cell_type": "markdown",
   "metadata": {},
   "source": [
    "## Linear Regression\n",
    "\n",
    "To run linear regression on each relationship, only this time separating them into Northern Hemisphere (greater than or equal to 0 degrees latitude) and Southern Hemisphere (less than 0 degrees latitude):\n",
    "\n",
    "* Northern Hemisphere - Temperature (F) vs. Latitude\n",
    "* Southern Hemisphere - Temperature (F) vs. Latitude\n",
    "* Northern Hemisphere - Humidity (%) vs. Latitude\n",
    "* Southern Hemisphere - Humidity (%) vs. Latitude\n",
    "* Northern Hemisphere - Cloudiness (%) vs. Latitude\n",
    "* Southern Hemisphere - Cloudiness (%) vs. Latitude\n",
    "* Northern Hemisphere - Wind Speed (mph) vs. Latitude\n",
    "* Southern Hemisphere - Wind Speed (mph) vs. Latitude"
   ]
  },
  {
   "cell_type": "code",
   "execution_count": 100,
   "metadata": {},
   "outputs": [],
   "source": [
    "#Create a function to create Linear Regression plots\n",
    "\n",
    "def linear_regresion_plot(x_values, y_values, x_label, y_label, label_pos, plot_title, plot_number):\n",
    "    (slope, intercept, rvalue, pvalue, stderr) = linregress(x_values, y_values)\n",
    "    print(f\"The regression -squared is: {rvalue}\")\n",
    "    regress_values = x_values * slope + intercept\n",
    "    line_eq = \"y = \" + str(round(slope,2)) + \"x + \" + str(round(intercept,2))\n",
    "\n",
    "    plt.scatter(x_values,y_values)\n",
    "    plt.plot(x_values,regress_values,\"r-\")\n",
    "    plt.annotate(line_eq,label_pos,fontsize=15,color=\"blue\")\n",
    "    plt.xlabel(x_label)\n",
    "    plt.ylabel(y_label)\n",
    "    plt.title(f\"{plot_title}\")\n",
    "    plt.savefig(f\"Output/fig_reg{plot_number}.png\")\n",
    "    plt.show()"
   ]
  },
  {
   "cell_type": "code",
   "execution_count": 85,
   "metadata": {},
   "outputs": [],
   "source": [
    "# Create Northern and Southern Hemisphere DataFrames\n",
    "\n",
    "nothern_hemisphere = weather_df.loc[weather_df[\"Latitude\"] >= 0.0]\n",
    "nothern_hemisphere.reset_index(inplace=True)\n",
    "\n",
    "southern_hemisphere = weather_df.loc[weather_df[\"Latitude\"] < 0.0]\n",
    "southern_hemisphere.reset_index(inplace=True)"
   ]
  },
  {
   "cell_type": "code",
   "execution_count": 86,
   "metadata": {},
   "outputs": [
    {
     "data": {
      "text/html": [
       "<div>\n",
       "<style scoped>\n",
       "    .dataframe tbody tr th:only-of-type {\n",
       "        vertical-align: middle;\n",
       "    }\n",
       "\n",
       "    .dataframe tbody tr th {\n",
       "        vertical-align: top;\n",
       "    }\n",
       "\n",
       "    .dataframe thead th {\n",
       "        text-align: right;\n",
       "    }\n",
       "</style>\n",
       "<table border=\"1\" class=\"dataframe\">\n",
       "  <thead>\n",
       "    <tr style=\"text-align: right;\">\n",
       "      <th></th>\n",
       "      <th>index</th>\n",
       "      <th>City</th>\n",
       "      <th>Temperature (F)</th>\n",
       "      <th>Humidity (%)</th>\n",
       "      <th>Cloudiness (%)</th>\n",
       "      <th>Wind Speed (mph)</th>\n",
       "      <th>Latitude</th>\n",
       "      <th>Longitude</th>\n",
       "      <th>Country</th>\n",
       "    </tr>\n",
       "  </thead>\n",
       "  <tbody>\n",
       "    <tr>\n",
       "      <th>0</th>\n",
       "      <td>3</td>\n",
       "      <td>Ndélé</td>\n",
       "      <td>75.49</td>\n",
       "      <td>80</td>\n",
       "      <td>87</td>\n",
       "      <td>4.72</td>\n",
       "      <td>8.41</td>\n",
       "      <td>20.65</td>\n",
       "      <td>CF</td>\n",
       "    </tr>\n",
       "    <tr>\n",
       "      <th>1</th>\n",
       "      <td>4</td>\n",
       "      <td>Synya</td>\n",
       "      <td>64.33</td>\n",
       "      <td>62</td>\n",
       "      <td>98</td>\n",
       "      <td>7.94</td>\n",
       "      <td>65.37</td>\n",
       "      <td>58.04</td>\n",
       "      <td>RU</td>\n",
       "    </tr>\n",
       "    <tr>\n",
       "      <th>2</th>\n",
       "      <td>5</td>\n",
       "      <td>Chaiya</td>\n",
       "      <td>90.86</td>\n",
       "      <td>70</td>\n",
       "      <td>40</td>\n",
       "      <td>16.11</td>\n",
       "      <td>9.39</td>\n",
       "      <td>99.20</td>\n",
       "      <td>TH</td>\n",
       "    </tr>\n",
       "    <tr>\n",
       "      <th>3</th>\n",
       "      <td>6</td>\n",
       "      <td>Hilo</td>\n",
       "      <td>76.08</td>\n",
       "      <td>69</td>\n",
       "      <td>90</td>\n",
       "      <td>3.36</td>\n",
       "      <td>19.73</td>\n",
       "      <td>-155.09</td>\n",
       "      <td>US</td>\n",
       "    </tr>\n",
       "    <tr>\n",
       "      <th>4</th>\n",
       "      <td>7</td>\n",
       "      <td>Chara</td>\n",
       "      <td>69.37</td>\n",
       "      <td>25</td>\n",
       "      <td>39</td>\n",
       "      <td>2.48</td>\n",
       "      <td>56.91</td>\n",
       "      <td>118.26</td>\n",
       "      <td>RU</td>\n",
       "    </tr>\n",
       "  </tbody>\n",
       "</table>\n",
       "</div>"
      ],
      "text/plain": [
       "   index    City  Temperature (F)  Humidity (%)  Cloudiness (%)  \\\n",
       "0      3   Ndélé            75.49            80              87   \n",
       "1      4   Synya            64.33            62              98   \n",
       "2      5  Chaiya            90.86            70              40   \n",
       "3      6    Hilo            76.08            69              90   \n",
       "4      7   Chara            69.37            25              39   \n",
       "\n",
       "   Wind Speed (mph)  Latitude  Longitude Country  \n",
       "0              4.72      8.41      20.65      CF  \n",
       "1              7.94     65.37      58.04      RU  \n",
       "2             16.11      9.39      99.20      TH  \n",
       "3              3.36     19.73    -155.09      US  \n",
       "4              2.48     56.91     118.26      RU  "
      ]
     },
     "execution_count": 86,
     "metadata": {},
     "output_type": "execute_result"
    }
   ],
   "source": [
    "#nothern_hemisphere cities\n",
    "nothern_hemisphere.head()"
   ]
  },
  {
   "cell_type": "code",
   "execution_count": 87,
   "metadata": {},
   "outputs": [
    {
     "data": {
      "text/html": [
       "<div>\n",
       "<style scoped>\n",
       "    .dataframe tbody tr th:only-of-type {\n",
       "        vertical-align: middle;\n",
       "    }\n",
       "\n",
       "    .dataframe tbody tr th {\n",
       "        vertical-align: top;\n",
       "    }\n",
       "\n",
       "    .dataframe thead th {\n",
       "        text-align: right;\n",
       "    }\n",
       "</style>\n",
       "<table border=\"1\" class=\"dataframe\">\n",
       "  <thead>\n",
       "    <tr style=\"text-align: right;\">\n",
       "      <th></th>\n",
       "      <th>index</th>\n",
       "      <th>City</th>\n",
       "      <th>Temperature (F)</th>\n",
       "      <th>Humidity (%)</th>\n",
       "      <th>Cloudiness (%)</th>\n",
       "      <th>Wind Speed (mph)</th>\n",
       "      <th>Latitude</th>\n",
       "      <th>Longitude</th>\n",
       "      <th>Country</th>\n",
       "    </tr>\n",
       "  </thead>\n",
       "  <tbody>\n",
       "    <tr>\n",
       "      <th>0</th>\n",
       "      <td>0</td>\n",
       "      <td>Caconda</td>\n",
       "      <td>52.11</td>\n",
       "      <td>58</td>\n",
       "      <td>7</td>\n",
       "      <td>3.89</td>\n",
       "      <td>-13.73</td>\n",
       "      <td>15.07</td>\n",
       "      <td>AO</td>\n",
       "    </tr>\n",
       "    <tr>\n",
       "      <th>1</th>\n",
       "      <td>1</td>\n",
       "      <td>Punta Arenas</td>\n",
       "      <td>39.09</td>\n",
       "      <td>86</td>\n",
       "      <td>75</td>\n",
       "      <td>4.70</td>\n",
       "      <td>-53.15</td>\n",
       "      <td>-70.92</td>\n",
       "      <td>CL</td>\n",
       "    </tr>\n",
       "    <tr>\n",
       "      <th>2</th>\n",
       "      <td>2</td>\n",
       "      <td>Ushuaia</td>\n",
       "      <td>39.20</td>\n",
       "      <td>93</td>\n",
       "      <td>75</td>\n",
       "      <td>4.70</td>\n",
       "      <td>-54.80</td>\n",
       "      <td>-68.30</td>\n",
       "      <td>AR</td>\n",
       "    </tr>\n",
       "    <tr>\n",
       "      <th>3</th>\n",
       "      <td>8</td>\n",
       "      <td>Atuona</td>\n",
       "      <td>81.37</td>\n",
       "      <td>77</td>\n",
       "      <td>3</td>\n",
       "      <td>13.09</td>\n",
       "      <td>-9.80</td>\n",
       "      <td>-139.03</td>\n",
       "      <td>PF</td>\n",
       "    </tr>\n",
       "    <tr>\n",
       "      <th>4</th>\n",
       "      <td>9</td>\n",
       "      <td>Ambilobe</td>\n",
       "      <td>80.74</td>\n",
       "      <td>50</td>\n",
       "      <td>56</td>\n",
       "      <td>5.53</td>\n",
       "      <td>-13.20</td>\n",
       "      <td>49.05</td>\n",
       "      <td>MG</td>\n",
       "    </tr>\n",
       "  </tbody>\n",
       "</table>\n",
       "</div>"
      ],
      "text/plain": [
       "   index          City  Temperature (F)  Humidity (%)  Cloudiness (%)  \\\n",
       "0      0       Caconda            52.11            58               7   \n",
       "1      1  Punta Arenas            39.09            86              75   \n",
       "2      2       Ushuaia            39.20            93              75   \n",
       "3      8        Atuona            81.37            77               3   \n",
       "4      9      Ambilobe            80.74            50              56   \n",
       "\n",
       "   Wind Speed (mph)  Latitude  Longitude Country  \n",
       "0              3.89    -13.73      15.07      AO  \n",
       "1              4.70    -53.15     -70.92      CL  \n",
       "2              4.70    -54.80     -68.30      AR  \n",
       "3             13.09     -9.80    -139.03      PF  \n",
       "4              5.53    -13.20      49.05      MG  "
      ]
     },
     "execution_count": 87,
     "metadata": {},
     "output_type": "execute_result"
    }
   ],
   "source": [
    "#southern_hemisphere cities\n",
    "southern_hemisphere.head()"
   ]
  },
  {
   "cell_type": "markdown",
   "metadata": {},
   "source": [
    "####  1. Northern Hemisphere - Max Temp vs. Latitude Linear Regression"
   ]
  },
  {
   "cell_type": "code",
   "execution_count": 102,
   "metadata": {},
   "outputs": [
    {
     "name": "stdout",
     "output_type": "stream",
     "text": [
      "The regression -squared is: -0.7544916785155428\n"
     ]
    },
    {
     "data": {
      "image/png": "[encoded data removed]",
      "text/plain": [
       "<Figure size 432x288 with 1 Axes>"
      ]
     },
     "metadata": {
      "needs_background": "light"
     },
     "output_type": "display_data"
    }
   ],
   "source": [
    "x_label = \"Latitude\"\n",
    "y_label = \"Temperature (F)\"\n",
    "label_pos = (5,30)\n",
    "plot_title= \"Northern Hemisphere - Max Temp vs. Latitude Linear Regression\"\n",
    "linear_regresion_plot(nothern_hemisphere[x_label],nothern_hemisphere[y_label],x_label,y_label,label_pos,plot_title,1)"
   ]
  },
  {
   "cell_type": "markdown",
   "metadata": {},
   "source": [
    "Linear regression has a r-squared value of -0.75. There is a medium to hight negative linear relation between latitude and temperature when both are descreasing in the Northern Hemisphere. We can observe that 75% of the variance is explained by this linear model."
   ]
  },
  {
   "cell_type": "markdown",
   "metadata": {},
   "source": [
    "####  Southern Hemisphere - Max Temp vs. Latitude Linear Regression"
   ]
  },
  {
   "cell_type": "code",
   "execution_count": 107,
   "metadata": {},
   "outputs": [
    {
     "name": "stdout",
     "output_type": "stream",
     "text": [
      "The regression -squared is: 0.8144203982789318\n"
     ]
    },
    {
     "data": {
      "image/png": "[encoded data removed]",
      "text/plain": [
       "<Figure size 432x288 with 1 Axes>"
      ]
     },
     "metadata": {
      "needs_background": "light"
     },
     "output_type": "display_data"
    }
   ],
   "source": [
    "x_label = \"Latitude\"\n",
    "y_label = \"Temperature (F)\"\n",
    "label_pos = (-55,80)\n",
    "plot_title= \"Southern Hemisphere - Max Temp vs. Latitude Linear Regression\"\n",
    "linear_regresion_plot(southern_hemisphere[x_label],southern_hemisphere[y_label],x_label,y_label,label_pos,plot_title,2)"
   ]
  },
  {
   "cell_type": "markdown",
   "metadata": {},
   "source": [
    "Linear regression has a r-squared value of -0.81. There is a hight linear relation between latitude and temperature when both are increasing in the Southern Hemisphere. We can observe that 81% of the variance is explained by this linear model - strong correlation."
   ]
  },
  {
   "cell_type": "markdown",
   "metadata": {},
   "source": [
    "####  Northern Hemisphere - Humidity (%) vs. Latitude Linear Regression"
   ]
  },
  {
   "cell_type": "code",
   "execution_count": 111,
   "metadata": {
    "scrolled": true
   },
   "outputs": [
    {
     "name": "stdout",
     "output_type": "stream",
     "text": [
      "The regression -squared is: -0.03895416860684649\n"
     ]
    },
    {
     "data": {
      "image/png": "[encoded data removed]",
      "text/plain": [
       "<Figure size 432x288 with 1 Axes>"
      ]
     },
     "metadata": {
      "needs_background": "light"
     },
     "output_type": "display_data"
    }
   ],
   "source": [
    "x_label = \"Latitude\"\n",
    "y_label = \"Humidity (%)\"\n",
    "label_pos = (1,1)\n",
    "plot_title= \"Northern Hemisphere - Humidity (%) vs. Latitude Linear Regression\"\n",
    "linear_regresion_plot(nothern_hemisphere[x_label],nothern_hemisphere[y_label],x_label,y_label,label_pos,plot_title,3)"
   ]
  },
  {
   "cell_type": "markdown",
   "metadata": {},
   "source": [
    "Linear regression has a r-squared value of -0.038. There is a minimum linear relation between latitude and humidity when both are increasing in the Northern Hemisphere. We can observe that 3.8% of the variance is explained by this linear model - minimum correlation."
   ]
  },
  {
   "cell_type": "markdown",
   "metadata": {},
   "source": [
    "####  Southern Hemisphere - Humidity (%) vs. Latitude Linear Regression"
   ]
  },
  {
   "cell_type": "code",
   "execution_count": 119,
   "metadata": {
    "scrolled": true
   },
   "outputs": [
    {
     "name": "stdout",
     "output_type": "stream",
     "text": [
      "The regression -squared is: 0.06791727202271125\n"
     ]
    },
    {
     "data": {
      "image/png": "[encoded data removed]",
      "text/plain": [
       "<Figure size 432x288 with 1 Axes>"
      ]
     },
     "metadata": {
      "needs_background": "light"
     },
     "output_type": "display_data"
    }
   ],
   "source": [
    "x_label = \"Latitude\"\n",
    "y_label = \"Humidity (%)\"\n",
    "label_pos = (-55,10)\n",
    "plot_title= \"Southern Hemisphere - Humidity (%) vs. Latitude Linear Regression\"\n",
    "linear_regresion_plot(southern_hemisphere[x_label],southern_hemisphere[y_label],x_label,y_label,label_pos,plot_title,4)"
   ]
  },
  {
   "cell_type": "markdown",
   "metadata": {},
   "source": [
    "Linear regression has a r-squared value of -0.067. There is a minimum linear relation between latitude and humidity when both are increasing in the Southern Hemisphere. We can observe that 6.79% of the variance is explained by this linear model - minimum correlation."
   ]
  },
  {
   "cell_type": "markdown",
   "metadata": {},
   "source": [
    "####  Northern Hemisphere - Cloudiness (%) vs. Latitude Linear Regression"
   ]
  },
  {
   "cell_type": "code",
   "execution_count": 123,
   "metadata": {
    "scrolled": true
   },
   "outputs": [
    {
     "name": "stdout",
     "output_type": "stream",
     "text": [
      "The regression -squared is: 0.11866241059660401\n"
     ]
    },
    {
     "data": {
      "image/png": "[encoded data removed]",
      "text/plain": [
       "<Figure size 432x288 with 1 Axes>"
      ]
     },
     "metadata": {
      "needs_background": "light"
     },
     "output_type": "display_data"
    }
   ],
   "source": [
    "x_label = \"Latitude\"\n",
    "y_label = \"Cloudiness (%)\"\n",
    "label_pos = (45,50)\n",
    "plot_title= \"Northern Hemisphere - Cloudiness (%) vs. Latitude Linear Regression\"\n",
    "linear_regresion_plot(nothern_hemisphere[x_label],nothern_hemisphere[y_label],x_label,y_label,label_pos,plot_title,5)"
   ]
  },
  {
   "cell_type": "markdown",
   "metadata": {},
   "source": [
    "Linear regression has a r-squared value of -0.1186. There is a weak linear relation between latitude and Cloudiness when both are increasing in the Northern Hemisphere. We can observe that 11.86% of the variance is explained by this linear model - weak correlation."
   ]
  },
  {
   "cell_type": "markdown",
   "metadata": {},
   "source": [
    "####  Southern Hemisphere - Cloudiness (%) vs. Latitude Linear Regression"
   ]
  },
  {
   "cell_type": "code",
   "execution_count": 127,
   "metadata": {},
   "outputs": [
    {
     "name": "stdout",
     "output_type": "stream",
     "text": [
      "The regression -squared is: 0.026164047693652766\n"
     ]
    },
    {
     "data": {
      "image/png": "[encoded data removed]",
      "text/plain": [
       "<Figure size 432x288 with 1 Axes>"
      ]
     },
     "metadata": {
      "needs_background": "light"
     },
     "output_type": "display_data"
    }
   ],
   "source": [
    "x_label = \"Latitude\"\n",
    "y_label = \"Cloudiness (%)\"\n",
    "label_pos = (-55,50)\n",
    "plot_title= \"Southern Hemisphere - Cloudiness (%) vs. Latitude Linear Regression\"\n",
    "linear_regresion_plot(southern_hemisphere[x_label],southern_hemisphere[y_label],x_label,y_label,label_pos,plot_title,6)"
   ]
  },
  {
   "cell_type": "markdown",
   "metadata": {},
   "source": [
    "Linear regression has a r-squared value of -0.026. There is a minimum linear relation between latitude and Cloudiness when both are increasing in the Southern Hemisphere. We can observe that 2.61% of the variance is explained by this linear model - minimum correlation."
   ]
  },
  {
   "cell_type": "markdown",
   "metadata": {},
   "source": [
    "####  Northern Hemisphere - Wind Speed (mph) vs. Latitude Linear Regression"
   ]
  },
  {
   "cell_type": "code",
   "execution_count": 129,
   "metadata": {
    "scrolled": true
   },
   "outputs": [
    {
     "name": "stdout",
     "output_type": "stream",
     "text": [
      "The regression -squared is: 0.028753776553369734\n"
     ]
    },
    {
     "data": {
      "image/png": "[encoded data removed]",
      "text/plain": [
       "<Figure size 432x288 with 1 Axes>"
      ]
     },
     "metadata": {
      "needs_background": "light"
     },
     "output_type": "display_data"
    }
   ],
   "source": [
    "x_label = \"Latitude\"\n",
    "y_label = \"Wind Speed (mph)\"\n",
    "label_pos = (5,32)\n",
    "plot_title= \"Northern Hemisphere - Wind Speed (mph) vs. Latitude Linear Regression\"\n",
    "linear_regresion_plot(nothern_hemisphere[x_label],nothern_hemisphere[y_label],x_label,y_label,label_pos,plot_title,7)"
   ]
  },
  {
   "cell_type": "markdown",
   "metadata": {},
   "source": [
    "Linear regression has a r-squared value of -0.028. There is a minimum linear relation between latitude and wind speed when both are increasing in the Northern Hemisphere. We can observe that 2.8% of the variance is explained by this linear model - almost no correlation exist."
   ]
  },
  {
   "cell_type": "markdown",
   "metadata": {},
   "source": [
    "####  Southern Hemisphere - Wind Speed (mph) vs. Latitude Linear Regression"
   ]
  },
  {
   "cell_type": "code",
   "execution_count": 133,
   "metadata": {
    "scrolled": true
   },
   "outputs": [
    {
     "name": "stdout",
     "output_type": "stream",
     "text": [
      "The regression -squared is: -0.1355755564100225\n"
     ]
    },
    {
     "data": {
      "image/png": "[encoded data removed]",
      "text/plain": [
       "<Figure size 432x288 with 1 Axes>"
      ]
     },
     "metadata": {
      "needs_background": "light"
     },
     "output_type": "display_data"
    }
   ],
   "source": [
    "x_label = \"Latitude\"\n",
    "y_label = \"Wind Speed (mph)\"\n",
    "label_pos = (-55,25)\n",
    "plot_title= \"Southern Hemisphere - Wind Speed (mph) vs. Latitude Linear Regression\"\n",
    "linear_regresion_plot(southern_hemisphere[x_label],southern_hemisphere[y_label],x_label,y_label,label_pos,plot_title,8)"
   ]
  },
  {
   "cell_type": "markdown",
   "metadata": {},
   "source": [
    "Linear regression has a r-squared value of -0.135. There is a minimum linear relation between latitude and wind speed when both are increasing in the Southern Hemisphere. We can observe that 13.5% of the variance is explained by this linear model - Minimym correlation is appreciated."
   ]
  },
  {
   "cell_type": "markdown",
   "metadata": {},
   "source": [
    "### End of challenge"
   ]
  }
 ],
 "metadata": {
  "anaconda-cloud": {},
  "kernel_info": {
   "name": "python3"
  },
  "kernelspec": {
   "display_name": "Python [conda env:PythonData] *",
   "language": "python",
   "name": "conda-env-PythonData-py"
  },
  "language_info": {
   "codemirror_mode": {
    "name": "ipython",
    "version": 3
   },
   "file_extension": ".py",
   "mimetype": "text/x-python",
   "name": "python",
   "nbconvert_exporter": "python",
   "pygments_lexer": "ipython3",
   "version": "3.8.2"
  },
  "latex_envs": {
   "LaTeX_envs_menu_present": true,
   "autoclose": false,
   "autocomplete": true,
   "bibliofile": "biblio.bib",
   "cite_by": "apalike",
   "current_citInitial": 1,
   "eqLabelWithNumbers": true,
   "eqNumInitial": 1,
   "hotkeys": {
    "equation": "Ctrl-E",
    "itemize": "Ctrl-I"
   },
   "labels_anchors": false,
   "latex_user_defs": false,
   "report_style_numbering": false,
   "user_envs_cfg": false
  },
  "nteract": {
   "version": "0.12.3"
  }
 },
 "nbformat": 4,
 "nbformat_minor": 2
}
